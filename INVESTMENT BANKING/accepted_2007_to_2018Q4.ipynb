{
 "cells": [
  {
   "cell_type": "markdown",
   "id": "061fb28b-3b16-49d9-97a6-baccb0e31cdc",
   "metadata": {},
   "source": [
    "# Accepted_2007_to_2018Q4 PROJECT"
   ]
  },
  {
   "cell_type": "code",
   "execution_count": 1,
   "id": "d213c208-1d74-4aee-9612-79b95e31fe5c",
   "metadata": {},
   "outputs": [],
   "source": [
    "import pyspark\n",
    "from pyspark import SparkContext,SparkConf\n",
    "from pyspark.sql import SparkSession\n",
    "c = pyspark.SparkConf().setAppName(\"test_app\").setMaster(\"local\")\n",
    "sc = pyspark.SparkContext(conf = c)\n",
    "spark = SparkSession(sc)"
   ]
  },
  {
   "cell_type": "code",
   "execution_count": 2,
   "id": "03f46d48-afc4-4aab-9589-35d705d935a2",
   "metadata": {},
   "outputs": [],
   "source": [
    "from pyspark.sql.functions import *\n",
    "from pyspark.sql.types import IntegerType,FloatType"
   ]
  },
  {
   "cell_type": "code",
   "execution_count": 3,
   "id": "d5037035-a0ea-4831-8101-de4ef2dae5b0",
   "metadata": {},
   "outputs": [],
   "source": [
    "data=spark.read.option('delimiter',\",\").option('escape','\\\"').option('quote','\\\"').csv(\"D:/DATA ENGINEER/PYTHON/datasets/accepted_2007_to_2018Q4.csv/accepted_2007_to_2018Q4.csv\",header=True,inferSchema=True)"
   ]
  },
  {
   "cell_type": "code",
   "execution_count": 4,
   "id": "7b2a244c-a827-42d1-aa3c-cd8f87ab6c2c",
   "metadata": {},
   "outputs": [
    {
     "data": {
      "text/plain": [
       "(2260701, 151)"
      ]
     },
     "execution_count": 4,
     "metadata": {},
     "output_type": "execute_result"
    }
   ],
   "source": [
    "data.count(),len(data.columns)"
   ]
  },
  {
   "cell_type": "code",
   "execution_count": 5,
   "id": "404cb190-087f-4945-b135-04ff42cee7c2",
   "metadata": {
    "scrolled": true
   },
   "outputs": [
    {
     "data": {
      "text/plain": [
       "['id',\n",
       " 'member_id',\n",
       " 'loan_amnt',\n",
       " 'funded_amnt',\n",
       " 'funded_amnt_inv',\n",
       " 'term',\n",
       " 'int_rate',\n",
       " 'installment',\n",
       " 'grade',\n",
       " 'sub_grade',\n",
       " 'emp_title',\n",
       " 'emp_length',\n",
       " 'home_ownership',\n",
       " 'annual_inc',\n",
       " 'verification_status',\n",
       " 'issue_d',\n",
       " 'loan_status',\n",
       " 'pymnt_plan',\n",
       " 'url',\n",
       " 'desc',\n",
       " 'purpose',\n",
       " 'title',\n",
       " 'zip_code',\n",
       " 'addr_state',\n",
       " 'dti',\n",
       " 'delinq_2yrs',\n",
       " 'earliest_cr_line',\n",
       " 'fico_range_low',\n",
       " 'fico_range_high',\n",
       " 'inq_last_6mths',\n",
       " 'mths_since_last_delinq',\n",
       " 'mths_since_last_record',\n",
       " 'open_acc',\n",
       " 'pub_rec',\n",
       " 'revol_bal',\n",
       " 'revol_util',\n",
       " 'total_acc',\n",
       " 'initial_list_status',\n",
       " 'out_prncp',\n",
       " 'out_prncp_inv',\n",
       " 'total_pymnt',\n",
       " 'total_pymnt_inv',\n",
       " 'total_rec_prncp',\n",
       " 'total_rec_int',\n",
       " 'total_rec_late_fee',\n",
       " 'recoveries',\n",
       " 'collection_recovery_fee',\n",
       " 'last_pymnt_d',\n",
       " 'last_pymnt_amnt',\n",
       " 'next_pymnt_d',\n",
       " 'last_credit_pull_d',\n",
       " 'last_fico_range_high',\n",
       " 'last_fico_range_low',\n",
       " 'collections_12_mths_ex_med',\n",
       " 'mths_since_last_major_derog',\n",
       " 'policy_code',\n",
       " 'application_type',\n",
       " 'annual_inc_joint',\n",
       " 'dti_joint',\n",
       " 'verification_status_joint',\n",
       " 'acc_now_delinq',\n",
       " 'tot_coll_amt',\n",
       " 'tot_cur_bal',\n",
       " 'open_acc_6m',\n",
       " 'open_act_il',\n",
       " 'open_il_12m',\n",
       " 'open_il_24m',\n",
       " 'mths_since_rcnt_il',\n",
       " 'total_bal_il',\n",
       " 'il_util',\n",
       " 'open_rv_12m',\n",
       " 'open_rv_24m',\n",
       " 'max_bal_bc',\n",
       " 'all_util',\n",
       " 'total_rev_hi_lim',\n",
       " 'inq_fi',\n",
       " 'total_cu_tl',\n",
       " 'inq_last_12m',\n",
       " 'acc_open_past_24mths',\n",
       " 'avg_cur_bal',\n",
       " 'bc_open_to_buy',\n",
       " 'bc_util',\n",
       " 'chargeoff_within_12_mths',\n",
       " 'delinq_amnt',\n",
       " 'mo_sin_old_il_acct',\n",
       " 'mo_sin_old_rev_tl_op',\n",
       " 'mo_sin_rcnt_rev_tl_op',\n",
       " 'mo_sin_rcnt_tl',\n",
       " 'mort_acc',\n",
       " 'mths_since_recent_bc',\n",
       " 'mths_since_recent_bc_dlq',\n",
       " 'mths_since_recent_inq',\n",
       " 'mths_since_recent_revol_delinq',\n",
       " 'num_accts_ever_120_pd',\n",
       " 'num_actv_bc_tl',\n",
       " 'num_actv_rev_tl',\n",
       " 'num_bc_sats',\n",
       " 'num_bc_tl',\n",
       " 'num_il_tl',\n",
       " 'num_op_rev_tl',\n",
       " 'num_rev_accts',\n",
       " 'num_rev_tl_bal_gt_0',\n",
       " 'num_sats',\n",
       " 'num_tl_120dpd_2m',\n",
       " 'num_tl_30dpd',\n",
       " 'num_tl_90g_dpd_24m',\n",
       " 'num_tl_op_past_12m',\n",
       " 'pct_tl_nvr_dlq',\n",
       " 'percent_bc_gt_75',\n",
       " 'pub_rec_bankruptcies',\n",
       " 'tax_liens',\n",
       " 'tot_hi_cred_lim',\n",
       " 'total_bal_ex_mort',\n",
       " 'total_bc_limit',\n",
       " 'total_il_high_credit_limit',\n",
       " 'revol_bal_joint',\n",
       " 'sec_app_fico_range_low',\n",
       " 'sec_app_fico_range_high',\n",
       " 'sec_app_earliest_cr_line',\n",
       " 'sec_app_inq_last_6mths',\n",
       " 'sec_app_mort_acc',\n",
       " 'sec_app_open_acc',\n",
       " 'sec_app_revol_util',\n",
       " 'sec_app_open_act_il',\n",
       " 'sec_app_num_rev_accts',\n",
       " 'sec_app_chargeoff_within_12_mths',\n",
       " 'sec_app_collections_12_mths_ex_med',\n",
       " 'sec_app_mths_since_last_major_derog',\n",
       " 'hardship_flag',\n",
       " 'hardship_type',\n",
       " 'hardship_reason',\n",
       " 'hardship_status',\n",
       " 'deferral_term',\n",
       " 'hardship_amount',\n",
       " 'hardship_start_date',\n",
       " 'hardship_end_date',\n",
       " 'payment_plan_start_date',\n",
       " 'hardship_length',\n",
       " 'hardship_dpd',\n",
       " 'hardship_loan_status',\n",
       " 'orig_projected_additional_accrued_interest',\n",
       " 'hardship_payoff_balance_amount',\n",
       " 'hardship_last_payment_amount',\n",
       " 'disbursement_method',\n",
       " 'debt_settlement_flag',\n",
       " 'debt_settlement_flag_date',\n",
       " 'settlement_status',\n",
       " 'settlement_date',\n",
       " 'settlement_amount',\n",
       " 'settlement_percentage',\n",
       " 'settlement_term']"
      ]
     },
     "execution_count": 5,
     "metadata": {},
     "output_type": "execute_result"
    }
   ],
   "source": [
    "data.columns"
   ]
  },
  {
   "cell_type": "code",
   "execution_count": 4,
   "id": "d4cabbd7-7ad2-405f-8857-af479a2d9079",
   "metadata": {},
   "outputs": [],
   "source": [
    "col1=['id','member_id','loan_amnt','funded_amnt','funded_amnt_inv','term','int_rate','installment']\n",
    "col2=['grade','sub_grade','emp_title','emp_length','home_ownership','annual_inc','verification_status']\n",
    "col3=['issue_d','loan_status','pymnt_plan','url','desc','purpose']\n",
    "col4=['title','zip_code','addr_state','dti','delinq_2yrs','earliest_cr_line','fico_range_low','fico_range_high']"
   ]
  },
  {
   "cell_type": "code",
   "execution_count": 7,
   "id": "c0000f0c-487a-4454-9fac-4c5266350b12",
   "metadata": {},
   "outputs": [
    {
     "name": "stdout",
     "output_type": "stream",
     "text": [
      "+--------+---------+---------+-----------+---------------+----------+--------+-----------+\n",
      "|id      |member_id|loan_amnt|funded_amnt|funded_amnt_inv|term      |int_rate|installment|\n",
      "+--------+---------+---------+-----------+---------------+----------+--------+-----------+\n",
      "|68407277|NULL     |3600.0   |3600.0     |3600.0         | 36 months|13.99   |123.03     |\n",
      "|68355089|NULL     |24700.0  |24700.0    |24700.0        | 36 months|11.99   |820.28     |\n",
      "|68341763|NULL     |20000.0  |20000.0    |20000.0        | 60 months|10.78   |432.66     |\n",
      "|66310712|NULL     |35000.0  |35000.0    |35000.0        | 60 months|14.85   |829.9      |\n",
      "|68476807|NULL     |10400.0  |10400.0    |10400.0        | 60 months|22.45   |289.91     |\n",
      "+--------+---------+---------+-----------+---------------+----------+--------+-----------+\n",
      "only showing top 5 rows\n",
      "\n"
     ]
    }
   ],
   "source": [
    "data.select(col1).show(5,False)"
   ]
  },
  {
   "cell_type": "code",
   "execution_count": 8,
   "id": "d22cffe2-dfbd-42c9-bda4-e37cff939846",
   "metadata": {},
   "outputs": [
    {
     "name": "stdout",
     "output_type": "stream",
     "text": [
      "+-----+---------+---------------------------+----------+--------------+----------+-------------------+\n",
      "|grade|sub_grade|emp_title                  |emp_length|home_ownership|annual_inc|verification_status|\n",
      "+-----+---------+---------------------------+----------+--------------+----------+-------------------+\n",
      "|C    |C4       |leadman                    |10+ years |MORTGAGE      |55000.0   |Not Verified       |\n",
      "|C    |C1       |Engineer                   |10+ years |MORTGAGE      |65000.0   |Not Verified       |\n",
      "|B    |B4       |truck driver               |10+ years |MORTGAGE      |63000.0   |Not Verified       |\n",
      "|C    |C5       |Information Systems Officer|10+ years |MORTGAGE      |110000.0  |Source Verified    |\n",
      "+-----+---------+---------------------------+----------+--------------+----------+-------------------+\n",
      "only showing top 4 rows\n",
      "\n"
     ]
    }
   ],
   "source": [
    "data.select(col2).show(4,False)"
   ]
  },
  {
   "cell_type": "code",
   "execution_count": 9,
   "id": "7c15994f-9450-42c1-a610-3f7838bf9e4d",
   "metadata": {},
   "outputs": [
    {
     "name": "stdout",
     "output_type": "stream",
     "text": [
      "+--------+-----------+----------+-----------------------------------------------------------------+----+------------------+\n",
      "|issue_d |loan_status|pymnt_plan|url                                                              |desc|purpose           |\n",
      "+--------+-----------+----------+-----------------------------------------------------------------+----+------------------+\n",
      "|Dec-2015|Fully Paid |n         |https://lendingclub.com/browse/loanDetail.action?loan_id=68407277|NULL|debt_consolidation|\n",
      "|Dec-2015|Fully Paid |n         |https://lendingclub.com/browse/loanDetail.action?loan_id=68355089|NULL|small_business    |\n",
      "|Dec-2015|Fully Paid |n         |https://lendingclub.com/browse/loanDetail.action?loan_id=68341763|NULL|home_improvement  |\n",
      "|Dec-2015|Current    |n         |https://lendingclub.com/browse/loanDetail.action?loan_id=66310712|NULL|debt_consolidation|\n",
      "+--------+-----------+----------+-----------------------------------------------------------------+----+------------------+\n",
      "only showing top 4 rows\n",
      "\n"
     ]
    }
   ],
   "source": [
    "data.select(col3).show(4,False)"
   ]
  },
  {
   "cell_type": "code",
   "execution_count": 10,
   "id": "62538f42-ef16-4b7e-846a-5392d9d4bab6",
   "metadata": {},
   "outputs": [
    {
     "name": "stdout",
     "output_type": "stream",
     "text": [
      "+------------------+--------+----------+-----+-----------+----------------+--------------+---------------+\n",
      "|             title|zip_code|addr_state|  dti|delinq_2yrs|earliest_cr_line|fico_range_low|fico_range_high|\n",
      "+------------------+--------+----------+-----+-----------+----------------+--------------+---------------+\n",
      "|Debt consolidation|   190xx|        PA| 5.91|        0.0|        Aug-2003|         675.0|          679.0|\n",
      "|          Business|   577xx|        SD|16.06|        1.0|        Dec-1999|         715.0|          719.0|\n",
      "|              NULL|   605xx|        IL|10.78|        0.0|        Aug-2000|         695.0|          699.0|\n",
      "+------------------+--------+----------+-----+-----------+----------------+--------------+---------------+\n",
      "only showing top 3 rows\n",
      "\n"
     ]
    }
   ],
   "source": [
    "data.select(col4).show(3)"
   ]
  },
  {
   "cell_type": "markdown",
   "id": "fae99c31-a86a-45ef-b209-4ce68a6fcbc6",
   "metadata": {},
   "source": [
    "### now we start filtering first col"
   ]
  },
  {
   "cell_type": "code",
   "execution_count": 11,
   "id": "a8e65a8a-e1fa-4604-99fc-e272c33521f8",
   "metadata": {},
   "outputs": [
    {
     "name": "stdout",
     "output_type": "stream",
     "text": [
      "+--------+---------+---------+-----------+---------------+----------+--------+-----------+\n",
      "|      id|member_id|loan_amnt|funded_amnt|funded_amnt_inv|      term|int_rate|installment|\n",
      "+--------+---------+---------+-----------+---------------+----------+--------+-----------+\n",
      "|68407277|     NULL|   3600.0|     3600.0|         3600.0| 36 months|   13.99|     123.03|\n",
      "|68355089|     NULL|  24700.0|    24700.0|        24700.0| 36 months|   11.99|     820.28|\n",
      "|68341763|     NULL|  20000.0|    20000.0|        20000.0| 60 months|   10.78|     432.66|\n",
      "|66310712|     NULL|  35000.0|    35000.0|        35000.0| 60 months|   14.85|      829.9|\n",
      "+--------+---------+---------+-----------+---------------+----------+--------+-----------+\n",
      "only showing top 4 rows\n",
      "\n"
     ]
    }
   ],
   "source": [
    "data.select(col1).show(4)"
   ]
  },
  {
   "cell_type": "code",
   "execution_count": 12,
   "id": "95d2bad3-6df6-448c-8370-58c5733319ff",
   "metadata": {},
   "outputs": [
    {
     "name": "stdout",
     "output_type": "stream",
     "text": [
      "2260701\n",
      "2260701\n"
     ]
    }
   ],
   "source": [
    "#assemption id is a primary key\n",
    "print(data.count())#2260701\n",
    "print(data.select(\"id\").distinct().count())#2260701 we got the same result so no duplicates are present"
   ]
  },
  {
   "cell_type": "code",
   "execution_count": 13,
   "id": "612cb800-005c-4d86-8761-08485597dd74",
   "metadata": {},
   "outputs": [
    {
     "data": {
      "text/plain": [
       "0"
      ]
     },
     "execution_count": 13,
     "metadata": {},
     "output_type": "execute_result"
    }
   ],
   "source": [
    "#now checking null values are preset\n",
    "data.filter(col(\"id\").isNull()).count() # we get 0 so there is no null present in id"
   ]
  },
  {
   "cell_type": "code",
   "execution_count": 14,
   "id": "0d73633e-812f-4622-aa3a-3c559650fcb9",
   "metadata": {},
   "outputs": [
    {
     "name": "stdout",
     "output_type": "stream",
     "text": [
      "+-----------------------------------------------+\n",
      "|max(id)                                        |\n",
      "+-----------------------------------------------+\n",
      "|Total amount funded in policy code 2: 873652739|\n",
      "+-----------------------------------------------+\n",
      "\n"
     ]
    }
   ],
   "source": [
    "#check is there min values and max values\n",
    "data.select(\"id\").agg({\"id\":\"min\",\"id\":\"max\"}).show(5,False)"
   ]
  },
  {
   "cell_type": "code",
   "execution_count": 15,
   "id": "ddc158fe-b016-4f0e-9ee8-b85a79d31767",
   "metadata": {},
   "outputs": [
    {
     "name": "stdout",
     "output_type": "stream",
     "text": [
      "+-----------------------------------------------+---------+---------+-----------+---------------+----+--------+-----------+\n",
      "|id                                             |member_id|loan_amnt|funded_amnt|funded_amnt_inv|term|int_rate|installment|\n",
      "+-----------------------------------------------+---------+---------+-----------+---------------+----+--------+-----------+\n",
      "|Total amount funded in policy code 2: 873652739|NULL     |NULL     |NULL       |NULL           |NULL|NULL    |NULL       |\n",
      "+-----------------------------------------------+---------+---------+-----------+---------------+----+--------+-----------+\n",
      "\n"
     ]
    }
   ],
   "source": [
    "data.select(col1).filter(col(\"id\").like(\"%873652739%\")).show(10,False)"
   ]
  },
  {
   "cell_type": "code",
   "execution_count": 16,
   "id": "4f24115a-8aa0-4529-9daa-8edc29e755d6",
   "metadata": {
    "scrolled": true
   },
   "outputs": [
    {
     "name": "stdout",
     "output_type": "stream",
     "text": [
      "+------------------------------------------------+\n",
      "|id                                              |\n",
      "+------------------------------------------------+\n",
      "|Total amount funded in policy code 2: 873652739 |\n",
      "|Total amount funded in policy code 2: 823319310 |\n",
      "|Total amount funded in policy code 2: 820109297 |\n",
      "|Total amount funded in policy code 2: 81866225  |\n",
      "|Total amount funded in policy code 2: 737901574 |\n",
      "|Total amount funded in policy code 2: 662815446 |\n",
      "|Total amount funded in policy code 2: 651669342 |\n",
      "|Total amount funded in policy code 2: 620899600 |\n",
      "|Total amount funded in policy code 2: 608903141 |\n",
      "|Total amount funded in policy code 2: 567447023 |\n",
      "|Total amount funded in policy code 2: 564202131 |\n",
      "|Total amount funded in policy code 2: 521953170 |\n",
      "|Total amount funded in policy code 2: 520780182 |\n",
      "|Total amount funded in policy code 2: 511988838 |\n",
      "|Total amount funded in policy code 2: 1944088810|\n",
      "|Total amount funded in policy code 2: 0         |\n",
      "|Total amount funded in policy code 1: 6417608175|\n",
      "|Total amount funded in policy code 1: 460296150 |\n",
      "|Total amount funded in policy code 1: 3503840175|\n",
      "|Total amount funded in policy code 1: 2700702175|\n",
      "|Total amount funded in policy code 1: 2087217200|\n",
      "|Total amount funded in policy code 1: 2080429200|\n",
      "|Total amount funded in policy code 1: 2063142975|\n",
      "|Total amount funded in policy code 1: 2050909275|\n",
      "|Total amount funded in policy code 1: 1817354125|\n",
      "|Total amount funded in policy code 1: 1791201400|\n",
      "|Total amount funded in policy code 1: 1741781700|\n",
      "|Total amount funded in policy code 1: 1538432075|\n",
      "|Total amount funded in policy code 1: 1465324575|\n",
      "|Total amount funded in policy code 1: 1443412975|\n",
      "|Total amount funded in policy code 1: 1437969475|\n",
      "|Total amount funded in policy code 1: 1404586950|\n",
      "|Loans that do not meet the credit policy        |\n",
      "+------------------------------------------------+\n",
      "only showing top 33 rows\n",
      "\n"
     ]
    }
   ],
   "source": [
    "data.select(\"id\").orderBy(desc(\"id\")).show(33,False)"
   ]
  },
  {
   "cell_type": "code",
   "execution_count": null,
   "id": "b9cbf630-7b27-46d3-b006-d884eeb24e66",
   "metadata": {},
   "outputs": [],
   "source": [
    "#to check if all col have a null value for this id\n",
    "data.select(\"*\").filter(col(\"id\").rlike('^[A-Za-z]')).show()"
   ]
  },
  {
   "cell_type": "code",
   "execution_count": null,
   "id": "dbdd7c9a-aebd-491f-ac8a-9cbd1d631851",
   "metadata": {},
   "outputs": [],
   "source": [
    "data.filter(col('member_id').isNull()).count()"
   ]
  },
  {
   "cell_type": "code",
   "execution_count": null,
   "id": "fbf0a2b5-901b-4b2c-a6b9-9f9c1db0b244",
   "metadata": {},
   "outputs": [],
   "source": [
    "data.filter(col('loan_amnt').isNull()).count()"
   ]
  },
  {
   "cell_type": "code",
   "execution_count": null,
   "id": "0f5196ed-6a29-4e94-a5bf-56cd93c72158",
   "metadata": {},
   "outputs": [],
   "source": [
    "data.filter(col('funded_amnt').isNull()).count()"
   ]
  },
  {
   "cell_type": "code",
   "execution_count": null,
   "id": "7c74568d-f3c4-4882-a19f-a8e69af713cc",
   "metadata": {},
   "outputs": [],
   "source": [
    "#we got to know that every row as null in member id so why we need this col we can drop the col\n",
    "data.select([count(when(isnan(c)|col(c).isNull(),c)).alias(c) for c in col1]).show()"
   ]
  },
  {
   "cell_type": "code",
   "execution_count": null,
   "id": "e79cd09f-ce1c-4bde-a6eb-8fa610d53acb",
   "metadata": {},
   "outputs": [],
   "source": [
    "data.select([count(when(isnan(c)|col(c).isNull(),c)).alias(c) for c in col2]).show()"
   ]
  },
  {
   "cell_type": "code",
   "execution_count": null,
   "id": "3ef19995-2ff7-4aa1-b2ad-5115e1c54d94",
   "metadata": {},
   "outputs": [],
   "source": [
    "data.select([count(when(isnan(c)|col(c).isNull(),c)).alias(c) for c in col3]).show()"
   ]
  },
  {
   "cell_type": "code",
   "execution_count": 28,
   "id": "a74837da-d923-4814-92da-d3297ce7c918",
   "metadata": {},
   "outputs": [],
   "source": [
    "#we cant delete the row in spark withou creating the new dataframe \n",
    "#to drop the memeber id col we use drop method\n",
    "#for that we creating new df\n",
    "final_data=data.select(\"*\").filter(~col('id').rlike('^[A-Za-z]'))"
   ]
  },
  {
   "cell_type": "code",
   "execution_count": 5,
   "id": "7546fc4b-2145-402c-a9b6-aacf43366c41",
   "metadata": {},
   "outputs": [
    {
     "data": {
      "text/plain": [
       "151"
      ]
     },
     "execution_count": 5,
     "metadata": {},
     "output_type": "execute_result"
    }
   ],
   "source": [
    "len(final_data.columns)"
   ]
  },
  {
   "cell_type": "code",
   "execution_count": 14,
   "id": "d25e9388-1428-46ed-8551-e9423d5267c2",
   "metadata": {},
   "outputs": [],
   "source": [
    "col_to_drop=[]\n",
    "final_data=final_data.drop(*col_to_drop)"
   ]
  },
  {
   "cell_type": "code",
   "execution_count": 33,
   "id": "2169789c-796b-4700-8355-cb8895786a61",
   "metadata": {},
   "outputs": [
    {
     "data": {
      "text/plain": [
       "150"
      ]
     },
     "execution_count": 33,
     "metadata": {},
     "output_type": "execute_result"
    }
   ],
   "source": [
    "len(final_data.columns)#colum as been droped"
   ]
  },
  {
   "cell_type": "code",
   "execution_count": 6,
   "id": "85ebb343-049f-4c80-bf1f-ec9255a21dc5",
   "metadata": {},
   "outputs": [
    {
     "name": "stdout",
     "output_type": "stream",
     "text": [
      "+----------+\n",
      "|      term|\n",
      "+----------+\n",
      "| 36 months|\n",
      "| 60 months|\n",
      "+----------+\n",
      "\n"
     ]
    }
   ],
   "source": [
    "final_data.select('term').distinct().show()"
   ]
  },
  {
   "cell_type": "code",
   "execution_count": 6,
   "id": "6d10081e-90db-409d-a599-48d1b5592be7",
   "metadata": {},
   "outputs": [],
   "source": [
    "final_data=final_data.withColumn('term_in_month',regexp_replace(col('term'),\"months\",\"\"))"
   ]
  },
  {
   "cell_type": "code",
   "execution_count": 7,
   "id": "71874fdc-8983-4d32-bf71-28adbd0ebacd",
   "metadata": {},
   "outputs": [
    {
     "data": {
      "text/plain": [
       "152"
      ]
     },
     "execution_count": 7,
     "metadata": {},
     "output_type": "execute_result"
    }
   ],
   "source": [
    "len(final_data.columns)# now the term col added to col_to_drop"
   ]
  },
  {
   "cell_type": "code",
   "execution_count": 8,
   "id": "a5d4baad-84c9-43ea-8532-2ac7d1e2461c",
   "metadata": {},
   "outputs": [
    {
     "data": {
      "text/plain": [
       "152"
      ]
     },
     "execution_count": 8,
     "metadata": {},
     "output_type": "execute_result"
    }
   ],
   "source": [
    "len(final_data.columns)#it as been dropped"
   ]
  },
  {
   "cell_type": "code",
   "execution_count": 9,
   "id": "17304994-db13-4812-9192-9cbb2788d5bb",
   "metadata": {},
   "outputs": [
    {
     "name": "stdout",
     "output_type": "stream",
     "text": [
      "+-------------+\n",
      "|term_in_month|\n",
      "+-------------+\n",
      "|          36 |\n",
      "|          36 |\n",
      "|          60 |\n",
      "|          60 |\n",
      "+-------------+\n",
      "only showing top 4 rows\n",
      "\n"
     ]
    }
   ],
   "source": [
    "final_data.select('term_in_month').show(4) #after the number it as some space"
   ]
  },
  {
   "cell_type": "code",
   "execution_count": 10,
   "id": "066dc3f7-3849-4951-b360-97e2505bbba7",
   "metadata": {
    "scrolled": true
   },
   "outputs": [],
   "source": [
    "#use trim to remove space\n",
    "final_data=final_data.withColumn('term_in_month',trim(final_data['term_in_month']))\n",
    "#give the correct col name to trim the columns data "
   ]
  },
  {
   "cell_type": "code",
   "execution_count": 11,
   "id": "50bc7260-a527-491d-9039-038b017467cf",
   "metadata": {},
   "outputs": [
    {
     "name": "stdout",
     "output_type": "stream",
     "text": [
      "+-------------+\n",
      "|term_in_month|\n",
      "+-------------+\n",
      "|           36|\n",
      "|           36|\n",
      "|           60|\n",
      "|           60|\n",
      "+-------------+\n",
      "only showing top 4 rows\n",
      "\n"
     ]
    }
   ],
   "source": [
    "final_data.select('term_in_month').show(4)"
   ]
  },
  {
   "cell_type": "code",
   "execution_count": 12,
   "id": "10c51e5c-3db4-4610-aa60-ebf619bec346",
   "metadata": {
    "scrolled": true
   },
   "outputs": [
    {
     "data": {
      "text/plain": [
       "['id',\n",
       " 'member_id',\n",
       " 'loan_amnt',\n",
       " 'funded_amnt',\n",
       " 'funded_amnt_inv',\n",
       " 'term',\n",
       " 'int_rate',\n",
       " 'installment',\n",
       " 'grade',\n",
       " 'sub_grade',\n",
       " 'emp_title',\n",
       " 'emp_length',\n",
       " 'home_ownership',\n",
       " 'annual_inc',\n",
       " 'verification_status',\n",
       " 'issue_d',\n",
       " 'loan_status',\n",
       " 'pymnt_plan',\n",
       " 'url',\n",
       " 'desc',\n",
       " 'purpose',\n",
       " 'title',\n",
       " 'zip_code',\n",
       " 'addr_state',\n",
       " 'dti',\n",
       " 'delinq_2yrs',\n",
       " 'earliest_cr_line',\n",
       " 'fico_range_low',\n",
       " 'fico_range_high',\n",
       " 'inq_last_6mths',\n",
       " 'mths_since_last_delinq',\n",
       " 'mths_since_last_record',\n",
       " 'open_acc',\n",
       " 'pub_rec',\n",
       " 'revol_bal',\n",
       " 'revol_util',\n",
       " 'total_acc',\n",
       " 'initial_list_status',\n",
       " 'out_prncp',\n",
       " 'out_prncp_inv',\n",
       " 'total_pymnt',\n",
       " 'total_pymnt_inv',\n",
       " 'total_rec_prncp',\n",
       " 'total_rec_int',\n",
       " 'total_rec_late_fee',\n",
       " 'recoveries',\n",
       " 'collection_recovery_fee',\n",
       " 'last_pymnt_d',\n",
       " 'last_pymnt_amnt',\n",
       " 'next_pymnt_d',\n",
       " 'last_credit_pull_d',\n",
       " 'last_fico_range_high',\n",
       " 'last_fico_range_low',\n",
       " 'collections_12_mths_ex_med',\n",
       " 'mths_since_last_major_derog',\n",
       " 'policy_code',\n",
       " 'application_type',\n",
       " 'annual_inc_joint',\n",
       " 'dti_joint',\n",
       " 'verification_status_joint',\n",
       " 'acc_now_delinq',\n",
       " 'tot_coll_amt',\n",
       " 'tot_cur_bal',\n",
       " 'open_acc_6m',\n",
       " 'open_act_il',\n",
       " 'open_il_12m',\n",
       " 'open_il_24m',\n",
       " 'mths_since_rcnt_il',\n",
       " 'total_bal_il',\n",
       " 'il_util',\n",
       " 'open_rv_12m',\n",
       " 'open_rv_24m',\n",
       " 'max_bal_bc',\n",
       " 'all_util',\n",
       " 'total_rev_hi_lim',\n",
       " 'inq_fi',\n",
       " 'total_cu_tl',\n",
       " 'inq_last_12m',\n",
       " 'acc_open_past_24mths',\n",
       " 'avg_cur_bal',\n",
       " 'bc_open_to_buy',\n",
       " 'bc_util',\n",
       " 'chargeoff_within_12_mths',\n",
       " 'delinq_amnt',\n",
       " 'mo_sin_old_il_acct',\n",
       " 'mo_sin_old_rev_tl_op',\n",
       " 'mo_sin_rcnt_rev_tl_op',\n",
       " 'mo_sin_rcnt_tl',\n",
       " 'mort_acc',\n",
       " 'mths_since_recent_bc',\n",
       " 'mths_since_recent_bc_dlq',\n",
       " 'mths_since_recent_inq',\n",
       " 'mths_since_recent_revol_delinq',\n",
       " 'num_accts_ever_120_pd',\n",
       " 'num_actv_bc_tl',\n",
       " 'num_actv_rev_tl',\n",
       " 'num_bc_sats',\n",
       " 'num_bc_tl',\n",
       " 'num_il_tl',\n",
       " 'num_op_rev_tl',\n",
       " 'num_rev_accts',\n",
       " 'num_rev_tl_bal_gt_0',\n",
       " 'num_sats',\n",
       " 'num_tl_120dpd_2m',\n",
       " 'num_tl_30dpd',\n",
       " 'num_tl_90g_dpd_24m',\n",
       " 'num_tl_op_past_12m',\n",
       " 'pct_tl_nvr_dlq',\n",
       " 'percent_bc_gt_75',\n",
       " 'pub_rec_bankruptcies',\n",
       " 'tax_liens',\n",
       " 'tot_hi_cred_lim',\n",
       " 'total_bal_ex_mort',\n",
       " 'total_bc_limit',\n",
       " 'total_il_high_credit_limit',\n",
       " 'revol_bal_joint',\n",
       " 'sec_app_fico_range_low',\n",
       " 'sec_app_fico_range_high',\n",
       " 'sec_app_earliest_cr_line',\n",
       " 'sec_app_inq_last_6mths',\n",
       " 'sec_app_mort_acc',\n",
       " 'sec_app_open_acc',\n",
       " 'sec_app_revol_util',\n",
       " 'sec_app_open_act_il',\n",
       " 'sec_app_num_rev_accts',\n",
       " 'sec_app_chargeoff_within_12_mths',\n",
       " 'sec_app_collections_12_mths_ex_med',\n",
       " 'sec_app_mths_since_last_major_derog',\n",
       " 'hardship_flag',\n",
       " 'hardship_type',\n",
       " 'hardship_reason',\n",
       " 'hardship_status',\n",
       " 'deferral_term',\n",
       " 'hardship_amount',\n",
       " 'hardship_start_date',\n",
       " 'hardship_end_date',\n",
       " 'payment_plan_start_date',\n",
       " 'hardship_length',\n",
       " 'hardship_dpd',\n",
       " 'hardship_loan_status',\n",
       " 'orig_projected_additional_accrued_interest',\n",
       " 'hardship_payoff_balance_amount',\n",
       " 'hardship_last_payment_amount',\n",
       " 'disbursement_method',\n",
       " 'debt_settlement_flag',\n",
       " 'debt_settlement_flag_date',\n",
       " 'settlement_status',\n",
       " 'settlement_date',\n",
       " 'settlement_amount',\n",
       " 'settlement_percentage',\n",
       " 'settlement_term',\n",
       " 'term_in_month']"
      ]
     },
     "execution_count": 12,
     "metadata": {},
     "output_type": "execute_result"
    }
   ],
   "source": [
    "final_data.columns"
   ]
  },
  {
   "cell_type": "code",
   "execution_count": 15,
   "id": "b0777967-bbce-4141-b700-8159d5d67a91",
   "metadata": {},
   "outputs": [
    {
     "data": {
      "text/plain": [
       "150"
      ]
     },
     "execution_count": 15,
     "metadata": {},
     "output_type": "execute_result"
    }
   ],
   "source": [
    "len(final_data.columns)#it as been dropped"
   ]
  },
  {
   "cell_type": "code",
   "execution_count": 24,
   "id": "a5eabac4-5c51-402d-b3c0-48efd0e28185",
   "metadata": {},
   "outputs": [
    {
     "name": "stdout",
     "output_type": "stream",
     "text": [
      "+----------+\n",
      "|emp_length|\n",
      "+----------+\n",
      "|   5 years|\n",
      "|   9 years|\n",
      "| reactors\"|\n",
      "|    1 year|\n",
      "|   2 years|\n",
      "|   7 years|\n",
      "|   8 years|\n",
      "|   4 years|\n",
      "|   6 years|\n",
      "|   3 years|\n",
      "| 10+ years|\n",
      "|  < 1 year|\n",
      "|      NULL|\n",
      "+----------+\n",
      "\n"
     ]
    }
   ],
   "source": [
    "final_data.select('emp_length').distinct().show()"
   ]
  },
  {
   "cell_type": "code",
   "execution_count": 10,
   "id": "f587ea85-2483-4708-8d6c-2feb3228a3f8",
   "metadata": {},
   "outputs": [],
   "source": [
    "# need to extract the number \n",
    "final_data=final_data.withColumn('Emp_length_years',regexp_extract(col('emp_length'),'\\\\d+',0))"
   ]
  },
  {
   "cell_type": "code",
   "execution_count": 17,
   "id": "1268841b-bd36-4f7f-a563-b36e1f2396e2",
   "metadata": {},
   "outputs": [
    {
     "name": "stdout",
     "output_type": "stream",
     "text": [
      "+----------------+----------+\n",
      "|Emp_length_years|emp_length|\n",
      "+----------------+----------+\n",
      "|               1|  < 1 year|\n",
      "|               6|   6 years|\n",
      "|               1|    1 year|\n",
      "|               8|   8 years|\n",
      "|               7|   7 years|\n",
      "|               4|   4 years|\n",
      "|               5|   5 years|\n",
      "|                | reactors\"|\n",
      "|               9|   9 years|\n",
      "|               3|   3 years|\n",
      "|              10| 10+ years|\n",
      "|               2|   2 years|\n",
      "|            NULL|      NULL|\n",
      "+----------------+----------+\n",
      "\n"
     ]
    }
   ],
   "source": [
    "final_data.select('Emp_length_years','emp_length').distinct().show()"
   ]
  },
  {
   "cell_type": "code",
   "execution_count": null,
   "id": "99c7533e-0532-4a36-bb9e-19ad6713f3fd",
   "metadata": {},
   "outputs": [],
   "source": [
    "final_data.select('emp_length').show()#do emp_lenght is going to col_to_drop"
   ]
  },
  {
   "cell_type": "code",
   "execution_count": 11,
   "id": "c0671a0d-403e-4ca2-8811-b91a8f53dc3e",
   "metadata": {},
   "outputs": [],
   "source": [
    "col_to_drop=[\"member_id\",'term','emp_length']\n",
    "final_data=final_data.drop(*col_to_drop)"
   ]
  },
  {
   "cell_type": "code",
   "execution_count": 42,
   "id": "4724ede0-f867-41c6-aa4f-036396016112",
   "metadata": {},
   "outputs": [
    {
     "name": "stdout",
     "output_type": "stream",
     "text": [
      "+-----+\n",
      "|grade|\n",
      "+-----+\n",
      "|    F|\n",
      "|    E|\n",
      "|    B|\n",
      "|    D|\n",
      "|    C|\n",
      "|    A|\n",
      "|    G|\n",
      "+-----+\n",
      "\n"
     ]
    }
   ],
   "source": [
    "final_data.select('grade').distinct().show()"
   ]
  },
  {
   "cell_type": "code",
   "execution_count": 43,
   "id": "24b421de-c0bd-4072-a0cb-ca2a1f075ff9",
   "metadata": {},
   "outputs": [
    {
     "name": "stdout",
     "output_type": "stream",
     "text": [
      "+---------+\n",
      "|sub_grade|\n",
      "+---------+\n",
      "|       D5|\n",
      "|       F2|\n",
      "|       B4|\n",
      "|       A2|\n",
      "|       E4|\n",
      "|       B2|\n",
      "|       C3|\n",
      "|       D1|\n",
      "|       C4|\n",
      "|       F1|\n",
      "|       D3|\n",
      "|       F5|\n",
      "|       G2|\n",
      "|       B1|\n",
      "|       B3|\n",
      "|       E5|\n",
      "|       C5|\n",
      "|       G3|\n",
      "|       A4|\n",
      "|       F4|\n",
      "+---------+\n",
      "only showing top 20 rows\n",
      "\n"
     ]
    }
   ],
   "source": [
    "final_data.select('sub_grade').distinct().show()"
   ]
  },
  {
   "cell_type": "code",
   "execution_count": 28,
   "id": "c1cd268d-49cd-46a6-a451-5459afdd7f8a",
   "metadata": {},
   "outputs": [
    {
     "data": {
      "text/plain": [
       "35"
      ]
     },
     "execution_count": 28,
     "metadata": {},
     "output_type": "execute_result"
    }
   ],
   "source": [
    "final_data.select('sub_grade').distinct().count()"
   ]
  },
  {
   "cell_type": "code",
   "execution_count": null,
   "id": "7410c0a8-5577-4d0d-a77a-e2867fcb45b4",
   "metadata": {},
   "outputs": [],
   "source": [
    "final_data.select('sub_grade').filter(length(col('sub_grade'))>3).show()"
   ]
  },
  {
   "cell_type": "code",
   "execution_count": 33,
   "id": "24e30206-d3d3-4bd4-9b4f-448070248759",
   "metadata": {
    "scrolled": true
   },
   "outputs": [
    {
     "name": "stdout",
     "output_type": "stream",
     "text": [
      "+----------+\n",
      "|annual_inc|\n",
      "+----------+\n",
      "|   36522.0|\n",
      "|   31722.0|\n",
      "|   86300.0|\n",
      "|   59120.0|\n",
      "|   74600.0|\n",
      "|   15396.0|\n",
      "|   47364.0|\n",
      "|   26100.0|\n",
      "|  116900.0|\n",
      "|   49400.0|\n",
      "|   22600.0|\n",
      "|   38400.0|\n",
      "|   59051.2|\n",
      "|  194000.0|\n",
      "|   73200.0|\n",
      "|   59122.0|\n",
      "|   80581.0|\n",
      "|   66524.0|\n",
      "|  112952.0|\n",
      "|   82491.6|\n",
      "+----------+\n",
      "only showing top 20 rows\n",
      "\n"
     ]
    }
   ],
   "source": [
    "final_data.select('annual_inc').distinct().show()"
   ]
  },
  {
   "cell_type": "code",
   "execution_count": 21,
   "id": "46bb6f6e-4207-43f5-9107-893897ea3a7f",
   "metadata": {},
   "outputs": [
    {
     "data": {
      "text/plain": [
       "150"
      ]
     },
     "execution_count": 21,
     "metadata": {},
     "output_type": "execute_result"
    }
   ],
   "source": [
    "len(final_data.columns)"
   ]
  },
  {
   "cell_type": "code",
   "execution_count": 23,
   "id": "f9b15e8b-bf72-4471-a5ba-ed3c310ba76e",
   "metadata": {
    "scrolled": true
   },
   "outputs": [
    {
     "name": "stdout",
     "output_type": "stream",
     "text": [
      "root\n",
      " |-- id: string (nullable = true)\n",
      " |-- loan_amnt: double (nullable = true)\n",
      " |-- funded_amnt: double (nullable = true)\n",
      " |-- funded_amnt_inv: double (nullable = true)\n",
      " |-- int_rate: double (nullable = true)\n",
      " |-- installment: double (nullable = true)\n",
      " |-- grade: string (nullable = true)\n",
      " |-- sub_grade: string (nullable = true)\n",
      " |-- emp_title: string (nullable = true)\n",
      " |-- home_ownership: string (nullable = true)\n",
      " |-- annual_inc: string (nullable = true)\n",
      " |-- verification_status: string (nullable = true)\n",
      " |-- issue_d: string (nullable = true)\n",
      " |-- loan_status: string (nullable = true)\n",
      " |-- pymnt_plan: string (nullable = true)\n",
      " |-- url: string (nullable = true)\n",
      " |-- desc: string (nullable = true)\n",
      " |-- purpose: string (nullable = true)\n",
      " |-- title: string (nullable = true)\n",
      " |-- zip_code: string (nullable = true)\n",
      " |-- addr_state: string (nullable = true)\n",
      " |-- dti: string (nullable = true)\n",
      " |-- delinq_2yrs: string (nullable = true)\n",
      " |-- earliest_cr_line: string (nullable = true)\n",
      " |-- fico_range_low: string (nullable = true)\n",
      " |-- fico_range_high: string (nullable = true)\n",
      " |-- inq_last_6mths: string (nullable = true)\n",
      " |-- mths_since_last_delinq: string (nullable = true)\n",
      " |-- mths_since_last_record: string (nullable = true)\n",
      " |-- open_acc: string (nullable = true)\n",
      " |-- pub_rec: string (nullable = true)\n",
      " |-- revol_bal: string (nullable = true)\n",
      " |-- revol_util: string (nullable = true)\n",
      " |-- total_acc: string (nullable = true)\n",
      " |-- initial_list_status: string (nullable = true)\n",
      " |-- out_prncp: string (nullable = true)\n",
      " |-- out_prncp_inv: string (nullable = true)\n",
      " |-- total_pymnt: string (nullable = true)\n",
      " |-- total_pymnt_inv: string (nullable = true)\n",
      " |-- total_rec_prncp: string (nullable = true)\n",
      " |-- total_rec_int: string (nullable = true)\n",
      " |-- total_rec_late_fee: string (nullable = true)\n",
      " |-- recoveries: string (nullable = true)\n",
      " |-- collection_recovery_fee: string (nullable = true)\n",
      " |-- last_pymnt_d: string (nullable = true)\n",
      " |-- last_pymnt_amnt: string (nullable = true)\n",
      " |-- next_pymnt_d: string (nullable = true)\n",
      " |-- last_credit_pull_d: string (nullable = true)\n",
      " |-- last_fico_range_high: string (nullable = true)\n",
      " |-- last_fico_range_low: string (nullable = true)\n",
      " |-- collections_12_mths_ex_med: string (nullable = true)\n",
      " |-- mths_since_last_major_derog: string (nullable = true)\n",
      " |-- policy_code: string (nullable = true)\n",
      " |-- application_type: string (nullable = true)\n",
      " |-- annual_inc_joint: string (nullable = true)\n",
      " |-- dti_joint: string (nullable = true)\n",
      " |-- verification_status_joint: string (nullable = true)\n",
      " |-- acc_now_delinq: string (nullable = true)\n",
      " |-- tot_coll_amt: string (nullable = true)\n",
      " |-- tot_cur_bal: string (nullable = true)\n",
      " |-- open_acc_6m: string (nullable = true)\n",
      " |-- open_act_il: string (nullable = true)\n",
      " |-- open_il_12m: string (nullable = true)\n",
      " |-- open_il_24m: string (nullable = true)\n",
      " |-- mths_since_rcnt_il: string (nullable = true)\n",
      " |-- total_bal_il: string (nullable = true)\n",
      " |-- il_util: string (nullable = true)\n",
      " |-- open_rv_12m: string (nullable = true)\n",
      " |-- open_rv_24m: string (nullable = true)\n",
      " |-- max_bal_bc: string (nullable = true)\n",
      " |-- all_util: string (nullable = true)\n",
      " |-- total_rev_hi_lim: string (nullable = true)\n",
      " |-- inq_fi: string (nullable = true)\n",
      " |-- total_cu_tl: string (nullable = true)\n",
      " |-- inq_last_12m: double (nullable = true)\n",
      " |-- acc_open_past_24mths: double (nullable = true)\n",
      " |-- avg_cur_bal: string (nullable = true)\n",
      " |-- bc_open_to_buy: double (nullable = true)\n",
      " |-- bc_util: string (nullable = true)\n",
      " |-- chargeoff_within_12_mths: double (nullable = true)\n",
      " |-- delinq_amnt: double (nullable = true)\n",
      " |-- mo_sin_old_il_acct: double (nullable = true)\n",
      " |-- mo_sin_old_rev_tl_op: double (nullable = true)\n",
      " |-- mo_sin_rcnt_rev_tl_op: double (nullable = true)\n",
      " |-- mo_sin_rcnt_tl: double (nullable = true)\n",
      " |-- mort_acc: double (nullable = true)\n",
      " |-- mths_since_recent_bc: double (nullable = true)\n",
      " |-- mths_since_recent_bc_dlq: double (nullable = true)\n",
      " |-- mths_since_recent_inq: double (nullable = true)\n",
      " |-- mths_since_recent_revol_delinq: double (nullable = true)\n",
      " |-- num_accts_ever_120_pd: double (nullable = true)\n",
      " |-- num_actv_bc_tl: double (nullable = true)\n",
      " |-- num_actv_rev_tl: double (nullable = true)\n",
      " |-- num_bc_sats: double (nullable = true)\n",
      " |-- num_bc_tl: double (nullable = true)\n",
      " |-- num_il_tl: double (nullable = true)\n",
      " |-- num_op_rev_tl: double (nullable = true)\n",
      " |-- num_rev_accts: double (nullable = true)\n",
      " |-- num_rev_tl_bal_gt_0: double (nullable = true)\n",
      " |-- num_sats: double (nullable = true)\n",
      " |-- num_tl_120dpd_2m: double (nullable = true)\n",
      " |-- num_tl_30dpd: double (nullable = true)\n",
      " |-- num_tl_90g_dpd_24m: double (nullable = true)\n",
      " |-- num_tl_op_past_12m: double (nullable = true)\n",
      " |-- pct_tl_nvr_dlq: double (nullable = true)\n",
      " |-- percent_bc_gt_75: double (nullable = true)\n",
      " |-- pub_rec_bankruptcies: double (nullable = true)\n",
      " |-- tax_liens: double (nullable = true)\n",
      " |-- tot_hi_cred_lim: double (nullable = true)\n",
      " |-- total_bal_ex_mort: double (nullable = true)\n",
      " |-- total_bc_limit: double (nullable = true)\n",
      " |-- total_il_high_credit_limit: double (nullable = true)\n",
      " |-- revol_bal_joint: double (nullable = true)\n",
      " |-- sec_app_fico_range_low: double (nullable = true)\n",
      " |-- sec_app_fico_range_high: double (nullable = true)\n",
      " |-- sec_app_earliest_cr_line: string (nullable = true)\n",
      " |-- sec_app_inq_last_6mths: double (nullable = true)\n",
      " |-- sec_app_mort_acc: double (nullable = true)\n",
      " |-- sec_app_open_acc: double (nullable = true)\n",
      " |-- sec_app_revol_util: double (nullable = true)\n",
      " |-- sec_app_open_act_il: double (nullable = true)\n",
      " |-- sec_app_num_rev_accts: double (nullable = true)\n",
      " |-- sec_app_chargeoff_within_12_mths: double (nullable = true)\n",
      " |-- sec_app_collections_12_mths_ex_med: double (nullable = true)\n",
      " |-- sec_app_mths_since_last_major_derog: double (nullable = true)\n",
      " |-- hardship_flag: string (nullable = true)\n",
      " |-- hardship_type: string (nullable = true)\n",
      " |-- hardship_reason: string (nullable = true)\n",
      " |-- hardship_status: string (nullable = true)\n",
      " |-- deferral_term: string (nullable = true)\n",
      " |-- hardship_amount: string (nullable = true)\n",
      " |-- hardship_start_date: string (nullable = true)\n",
      " |-- hardship_end_date: string (nullable = true)\n",
      " |-- payment_plan_start_date: string (nullable = true)\n",
      " |-- hardship_length: string (nullable = true)\n",
      " |-- hardship_dpd: string (nullable = true)\n",
      " |-- hardship_loan_status: string (nullable = true)\n",
      " |-- orig_projected_additional_accrued_interest: string (nullable = true)\n",
      " |-- hardship_payoff_balance_amount: string (nullable = true)\n",
      " |-- hardship_last_payment_amount: string (nullable = true)\n",
      " |-- disbursement_method: string (nullable = true)\n",
      " |-- debt_settlement_flag: string (nullable = true)\n",
      " |-- debt_settlement_flag_date: string (nullable = true)\n",
      " |-- settlement_status: string (nullable = true)\n",
      " |-- settlement_date: string (nullable = true)\n",
      " |-- settlement_amount: string (nullable = true)\n",
      " |-- settlement_percentage: string (nullable = true)\n",
      " |-- settlement_term: string (nullable = true)\n",
      " |-- term_in_month: string (nullable = true)\n",
      " |-- Emp_length_years: string (nullable = true)\n",
      "\n"
     ]
    }
   ],
   "source": [
    "final_data.printSchema()"
   ]
  },
  {
   "cell_type": "code",
   "execution_count": 12,
   "id": "9a415e82-b1ee-44d7-ad5d-27731db91ef9",
   "metadata": {},
   "outputs": [],
   "source": [
    "from pyspark.sql.types import *"
   ]
  },
  {
   "cell_type": "code",
   "execution_count": null,
   "id": "0af4ebbb-d9c4-4d19-8ece-97a9dd48e3ea",
   "metadata": {
    "scrolled": true
   },
   "outputs": [],
   "source": [
    "final_data.select('annual_inc').filter(~col('annual_inc')).rlike('^[0-9]')"
   ]
  },
  {
   "cell_type": "code",
   "execution_count": null,
   "id": "2e4dc74a-694f-45ea-bbb4-3d0b3e8e7882",
   "metadata": {
    "scrolled": true
   },
   "outputs": [],
   "source": [
    "final_data.select('annual_inc').filter(~col('annual_inc')).rlike('^[0-9]+(\\.[0-9]+)?$')"
   ]
  },
  {
   "cell_type": "code",
   "execution_count": null,
   "id": "896d67dd-4088-4f62-8c59-5c59381ac18a",
   "metadata": {},
   "outputs": [],
   "source": [
    "final_data.show()"
   ]
  },
  {
   "cell_type": "code",
   "execution_count": 50,
   "id": "e75eb5db-dda2-4ca4-80c5-a600e273e506",
   "metadata": {},
   "outputs": [
    {
     "data": {
      "text/plain": [
       "512695"
      ]
     },
     "execution_count": 50,
     "metadata": {},
     "output_type": "execute_result"
    }
   ],
   "source": [
    "final_data.select(\"emp_title\").distinct().count()"
   ]
  },
  {
   "cell_type": "code",
   "execution_count": 25,
   "id": "1b735ba4-6dd0-43db-be78-59c79b774ac4",
   "metadata": {},
   "outputs": [
    {
     "data": {
      "text/plain": [
       "166969"
      ]
     },
     "execution_count": 25,
     "metadata": {},
     "output_type": "execute_result"
    }
   ],
   "source": [
    "final_data.select('emp_title').filter(col('emp_title').isNull()).count()"
   ]
  },
  {
   "cell_type": "code",
   "execution_count": 8,
   "id": "32b2afdb-3117-413d-9dd7-ca8f76211a13",
   "metadata": {},
   "outputs": [
    {
     "data": {
      "text/plain": [
       "7.3857179697801705"
      ]
     },
     "execution_count": 8,
     "metadata": {},
     "output_type": "execute_result"
    }
   ],
   "source": [
    "(166969/2260701)*100"
   ]
  },
  {
   "cell_type": "code",
   "execution_count": 53,
   "id": "3e58a1a8-78ca-4aaf-8870-4166d1f35c75",
   "metadata": {},
   "outputs": [
    {
     "name": "stderr",
     "output_type": "stream",
     "text": [
      "<>:1: SyntaxWarning: invalid escape sequence '\\['\n",
      "<>:1: SyntaxWarning: invalid escape sequence '\\['\n",
      "C:\\Users\\manid\\AppData\\Local\\Temp\\ipykernel_168544\\671687332.py:1: SyntaxWarning: invalid escape sequence '\\['\n",
      "  final_data.select(\"emp_title\").filter(col(\"emp_title\").rlike('^[0-9]+(\\[0-9]+)?$')).distinct().show()\n"
     ]
    },
    {
     "name": "stdout",
     "output_type": "stream",
     "text": [
      "+---------+\n",
      "|emp_title|\n",
      "+---------+\n",
      "|      112|\n",
      "|        3|\n",
      "|        8|\n",
      "|        5|\n",
      "|     0301|\n",
      "|       10|\n",
      "|    14000|\n",
      "|       11|\n",
      "|       22|\n",
      "|     6048|\n",
      "|        1|\n",
      "|        4|\n",
      "|       15|\n",
      "|       25|\n",
      "|    48000|\n",
      "|    45000|\n",
      "|       12|\n",
      "|       14|\n",
      "|     0321|\n",
      "|       16|\n",
      "+---------+\n",
      "only showing top 20 rows\n",
      "\n"
     ]
    }
   ],
   "source": [
    "final_data.select(\"emp_title\").filter(col(\"emp_title\").rlike('^[0-9]+(\\[0-9]+)?$')).distinct().show()"
   ]
  },
  {
   "cell_type": "code",
   "execution_count": 54,
   "id": "f303be08-24a7-4e26-9f3b-db3eb45e40d6",
   "metadata": {},
   "outputs": [
    {
     "name": "stdout",
     "output_type": "stream",
     "text": [
      "+----------------------------------------+\n",
      "|emp_title                               |\n",
      "+----------------------------------------+\n",
      "|2 nd Engineer                           |\n",
      "|1A                                      |\n",
      "|1426 Sr. Clerk Typist                   |\n",
      "|13-F                                    |\n",
      "|88M                                     |\n",
      "|2 level IT analyst                      |\n",
      "|2nd Vice President New Business Operatio|\n",
      "|3S0 personnel                           |\n",
      "|2nd Grade Teacher                       |\n",
      "|112                                     |\n",
      "|25U                                     |\n",
      "|911 SUPERVISOR                          |\n",
      "|6514 NY-26, Rome, NY 13440              |\n",
      "|4th Grade Tescher                       |\n",
      "|3                                       |\n",
      "|5th & 6th grade teacher                 |\n",
      "|1LT                                     |\n",
      "|1 year 2 months                         |\n",
      "|5th in charge grocery manager           |\n",
      "|2nd group leader/ diecast setup         |\n",
      "|2nd Lieutenant                          |\n",
      "|4H Extension Agent                      |\n",
      "|911 Call Receiver                       |\n",
      "|8                                       |\n",
      "|2nd settlement clerk/corporate trainer  |\n",
      "|12W                                     |\n",
      "|1/2 shift                               |\n",
      "|911 dispatch                            |\n",
      "|2nd Deputy Treasurer                    |\n",
      "|1st Vice President                      |\n",
      "+----------------------------------------+\n",
      "only showing top 30 rows\n",
      "\n"
     ]
    }
   ],
   "source": [
    "final_data.select(\"emp_title\").filter(col('emp_title').rlike('^[0-9]+')).distinct().show(30,False)"
   ]
  },
  {
   "cell_type": "code",
   "execution_count": 55,
   "id": "2638a11b-1735-4a36-9352-b65dc2d41b5e",
   "metadata": {},
   "outputs": [
    {
     "data": {
      "text/plain": [
       "1607"
      ]
     },
     "execution_count": 55,
     "metadata": {},
     "output_type": "execute_result"
    }
   ],
   "source": [
    "final_data.select(\"emp_title\").filter(col('emp_title').rlike('^[0-9]+')).distinct().count()"
   ]
  },
  {
   "cell_type": "markdown",
   "id": "efcc4a24-3067-40a3-b1ca-6036495cb8ef",
   "metadata": {},
   "source": [
    "## missing values >75% drop the col\n",
    "## 80-70% ----> ask to the client\n",
    "## less than 50%----->   input the missing values"
   ]
  },
  {
   "cell_type": "code",
   "execution_count": 57,
   "id": "43a9a260-54ea-475b-b1ab-d265a33434b4",
   "metadata": {},
   "outputs": [
    {
     "name": "stdout",
     "output_type": "stream",
     "text": [
      "+-----+---------+---------+----------+--------------+----------+-------------------+\n",
      "|grade|sub_grade|emp_title|emp_length|home_ownership|annual_inc|verification_status|\n",
      "+-----+---------+---------+----------+--------------+----------+-------------------+\n",
      "|   33|       33|   167002|    146940|            33|        37|                 33|\n",
      "+-----+---------+---------+----------+--------------+----------+-------------------+\n",
      "\n"
     ]
    }
   ],
   "source": [
    "data.select([count(when(isnan(c)|col(c).isNull(),c)).alias(c) for c in col2]).show()"
   ]
  },
  {
   "cell_type": "code",
   "execution_count": 9,
   "id": "9eeb5413-729b-4409-8560-7d2b089c8916",
   "metadata": {},
   "outputs": [],
   "source": [
    "final_data = final_data.fillna('N/A',subset=['emp_title'])"
   ]
  },
  {
   "cell_type": "code",
   "execution_count": 61,
   "id": "7da21908-85d3-4e0f-a836-4540509f8fab",
   "metadata": {},
   "outputs": [
    {
     "name": "stdout",
     "output_type": "stream",
     "text": [
      "+---------+\n",
      "|emp_title|\n",
      "+---------+\n",
      "+---------+\n",
      "\n"
     ]
    }
   ],
   "source": [
    "final_data.select('emp_title').filter(col('emp_title').isNull()).show()"
   ]
  },
  {
   "cell_type": "code",
   "execution_count": 34,
   "id": "4bf8f197-6107-4806-9de7-4b9b802ad1e6",
   "metadata": {},
   "outputs": [],
   "source": [
    "final_data=final_data.fillna(0,subset=['Emp_length_years'])"
   ]
  },
  {
   "cell_type": "code",
   "execution_count": 39,
   "id": "02fab998-f465-49da-ae88-8dc3cc75f93d",
   "metadata": {
    "scrolled": true
   },
   "outputs": [
    {
     "name": "stdout",
     "output_type": "stream",
     "text": [
      "root\n",
      " |-- id: string (nullable = true)\n",
      " |-- loan_amnt: double (nullable = true)\n",
      " |-- funded_amnt: double (nullable = true)\n",
      " |-- funded_amnt_inv: double (nullable = true)\n",
      " |-- int_rate: double (nullable = true)\n",
      " |-- installment: double (nullable = true)\n",
      " |-- grade: string (nullable = true)\n",
      " |-- sub_grade: string (nullable = true)\n",
      " |-- emp_title: string (nullable = false)\n",
      " |-- home_ownership: string (nullable = true)\n",
      " |-- annual_inc: string (nullable = true)\n",
      " |-- verification_status: string (nullable = true)\n",
      " |-- issue_d: string (nullable = true)\n",
      " |-- loan_status: string (nullable = true)\n",
      " |-- pymnt_plan: string (nullable = true)\n",
      " |-- url: string (nullable = true)\n",
      " |-- desc: string (nullable = true)\n",
      " |-- purpose: string (nullable = true)\n",
      " |-- title: string (nullable = true)\n",
      " |-- zip_code: string (nullable = true)\n",
      " |-- addr_state: string (nullable = true)\n",
      " |-- dti: string (nullable = true)\n",
      " |-- delinq_2yrs: string (nullable = true)\n",
      " |-- earliest_cr_line: string (nullable = true)\n",
      " |-- fico_range_low: string (nullable = true)\n",
      " |-- fico_range_high: string (nullable = true)\n",
      " |-- inq_last_6mths: string (nullable = true)\n",
      " |-- mths_since_last_delinq: string (nullable = true)\n",
      " |-- mths_since_last_record: string (nullable = true)\n",
      " |-- open_acc: string (nullable = true)\n",
      " |-- pub_rec: string (nullable = true)\n",
      " |-- revol_bal: string (nullable = true)\n",
      " |-- revol_util: string (nullable = true)\n",
      " |-- total_acc: string (nullable = true)\n",
      " |-- initial_list_status: string (nullable = true)\n",
      " |-- out_prncp: string (nullable = true)\n",
      " |-- out_prncp_inv: string (nullable = true)\n",
      " |-- total_pymnt: string (nullable = true)\n",
      " |-- total_pymnt_inv: string (nullable = true)\n",
      " |-- total_rec_prncp: string (nullable = true)\n",
      " |-- total_rec_int: string (nullable = true)\n",
      " |-- total_rec_late_fee: string (nullable = true)\n",
      " |-- recoveries: string (nullable = true)\n",
      " |-- collection_recovery_fee: string (nullable = true)\n",
      " |-- last_pymnt_d: string (nullable = true)\n",
      " |-- last_pymnt_amnt: string (nullable = true)\n",
      " |-- next_pymnt_d: string (nullable = true)\n",
      " |-- last_credit_pull_d: string (nullable = true)\n",
      " |-- last_fico_range_high: string (nullable = true)\n",
      " |-- last_fico_range_low: string (nullable = true)\n",
      " |-- collections_12_mths_ex_med: string (nullable = true)\n",
      " |-- mths_since_last_major_derog: string (nullable = true)\n",
      " |-- policy_code: string (nullable = true)\n",
      " |-- application_type: string (nullable = true)\n",
      " |-- annual_inc_joint: string (nullable = true)\n",
      " |-- dti_joint: string (nullable = true)\n",
      " |-- verification_status_joint: string (nullable = true)\n",
      " |-- acc_now_delinq: string (nullable = true)\n",
      " |-- tot_coll_amt: string (nullable = true)\n",
      " |-- tot_cur_bal: string (nullable = true)\n",
      " |-- open_acc_6m: string (nullable = true)\n",
      " |-- open_act_il: string (nullable = true)\n",
      " |-- open_il_12m: string (nullable = true)\n",
      " |-- open_il_24m: string (nullable = true)\n",
      " |-- mths_since_rcnt_il: string (nullable = true)\n",
      " |-- total_bal_il: string (nullable = true)\n",
      " |-- il_util: string (nullable = true)\n",
      " |-- open_rv_12m: string (nullable = true)\n",
      " |-- open_rv_24m: string (nullable = true)\n",
      " |-- max_bal_bc: string (nullable = true)\n",
      " |-- all_util: string (nullable = true)\n",
      " |-- total_rev_hi_lim: string (nullable = true)\n",
      " |-- inq_fi: string (nullable = true)\n",
      " |-- total_cu_tl: string (nullable = true)\n",
      " |-- inq_last_12m: double (nullable = true)\n",
      " |-- acc_open_past_24mths: double (nullable = true)\n",
      " |-- avg_cur_bal: string (nullable = true)\n",
      " |-- bc_open_to_buy: double (nullable = true)\n",
      " |-- bc_util: string (nullable = true)\n",
      " |-- chargeoff_within_12_mths: double (nullable = true)\n",
      " |-- delinq_amnt: double (nullable = true)\n",
      " |-- mo_sin_old_il_acct: double (nullable = true)\n",
      " |-- mo_sin_old_rev_tl_op: double (nullable = true)\n",
      " |-- mo_sin_rcnt_rev_tl_op: double (nullable = true)\n",
      " |-- mo_sin_rcnt_tl: double (nullable = true)\n",
      " |-- mort_acc: double (nullable = true)\n",
      " |-- mths_since_recent_bc: double (nullable = true)\n",
      " |-- mths_since_recent_bc_dlq: double (nullable = true)\n",
      " |-- mths_since_recent_inq: double (nullable = true)\n",
      " |-- mths_since_recent_revol_delinq: double (nullable = true)\n",
      " |-- num_accts_ever_120_pd: double (nullable = true)\n",
      " |-- num_actv_bc_tl: double (nullable = true)\n",
      " |-- num_actv_rev_tl: double (nullable = true)\n",
      " |-- num_bc_sats: double (nullable = true)\n",
      " |-- num_bc_tl: double (nullable = true)\n",
      " |-- num_il_tl: double (nullable = true)\n",
      " |-- num_op_rev_tl: double (nullable = true)\n",
      " |-- num_rev_accts: double (nullable = true)\n",
      " |-- num_rev_tl_bal_gt_0: double (nullable = true)\n",
      " |-- num_sats: double (nullable = true)\n",
      " |-- num_tl_120dpd_2m: double (nullable = true)\n",
      " |-- num_tl_30dpd: double (nullable = true)\n",
      " |-- num_tl_90g_dpd_24m: double (nullable = true)\n",
      " |-- num_tl_op_past_12m: double (nullable = true)\n",
      " |-- pct_tl_nvr_dlq: double (nullable = true)\n",
      " |-- percent_bc_gt_75: double (nullable = true)\n",
      " |-- pub_rec_bankruptcies: double (nullable = true)\n",
      " |-- tax_liens: double (nullable = true)\n",
      " |-- tot_hi_cred_lim: double (nullable = true)\n",
      " |-- total_bal_ex_mort: double (nullable = true)\n",
      " |-- total_bc_limit: double (nullable = true)\n",
      " |-- total_il_high_credit_limit: double (nullable = true)\n",
      " |-- revol_bal_joint: double (nullable = true)\n",
      " |-- sec_app_fico_range_low: double (nullable = true)\n",
      " |-- sec_app_fico_range_high: double (nullable = true)\n",
      " |-- sec_app_earliest_cr_line: string (nullable = true)\n",
      " |-- sec_app_inq_last_6mths: double (nullable = true)\n",
      " |-- sec_app_mort_acc: double (nullable = true)\n",
      " |-- sec_app_open_acc: double (nullable = true)\n",
      " |-- sec_app_revol_util: double (nullable = true)\n",
      " |-- sec_app_open_act_il: double (nullable = true)\n",
      " |-- sec_app_num_rev_accts: double (nullable = true)\n",
      " |-- sec_app_chargeoff_within_12_mths: double (nullable = true)\n",
      " |-- sec_app_collections_12_mths_ex_med: double (nullable = true)\n",
      " |-- sec_app_mths_since_last_major_derog: double (nullable = true)\n",
      " |-- hardship_flag: string (nullable = true)\n",
      " |-- hardship_type: string (nullable = true)\n",
      " |-- hardship_reason: string (nullable = true)\n",
      " |-- hardship_status: string (nullable = true)\n",
      " |-- deferral_term: string (nullable = true)\n",
      " |-- hardship_amount: string (nullable = true)\n",
      " |-- hardship_start_date: string (nullable = true)\n",
      " |-- hardship_end_date: string (nullable = true)\n",
      " |-- payment_plan_start_date: string (nullable = true)\n",
      " |-- hardship_length: string (nullable = true)\n",
      " |-- hardship_dpd: string (nullable = true)\n",
      " |-- hardship_loan_status: string (nullable = true)\n",
      " |-- orig_projected_additional_accrued_interest: string (nullable = true)\n",
      " |-- hardship_payoff_balance_amount: string (nullable = true)\n",
      " |-- hardship_last_payment_amount: string (nullable = true)\n",
      " |-- disbursement_method: string (nullable = true)\n",
      " |-- debt_settlement_flag: string (nullable = true)\n",
      " |-- debt_settlement_flag_date: string (nullable = true)\n",
      " |-- settlement_status: string (nullable = true)\n",
      " |-- settlement_date: string (nullable = true)\n",
      " |-- settlement_amount: string (nullable = true)\n",
      " |-- settlement_percentage: string (nullable = true)\n",
      " |-- settlement_term: string (nullable = true)\n",
      " |-- term_in_month: string (nullable = true)\n",
      " |-- Emp_length_years: string (nullable = true)\n",
      "\n"
     ]
    }
   ],
   "source": [
    "final_data.printSchema()"
   ]
  },
  {
   "cell_type": "code",
   "execution_count": 67,
   "id": "1f1934a9-73b2-4fdc-a77e-4a99ea5ed813",
   "metadata": {},
   "outputs": [
    {
     "name": "stdout",
     "output_type": "stream",
     "text": [
      "+--------------+\n",
      "|home_ownership|\n",
      "+--------------+\n",
      "|           OWN|\n",
      "|          RENT|\n",
      "|       2 years|\n",
      "|      MORTGAGE|\n",
      "|           ANY|\n",
      "|          NONE|\n",
      "|         OTHER|\n",
      "+--------------+\n",
      "\n"
     ]
    }
   ],
   "source": [
    "final_data.select(\"home_ownership\").distinct().show()"
   ]
  },
  {
   "cell_type": "code",
   "execution_count": 41,
   "id": "f47a75e1-9fea-4463-b4ef-665f62b3e381",
   "metadata": {},
   "outputs": [],
   "source": [
    "final_data=final_data.withColumn('Emp_length_years',final_data['Emp_length_years'].cast(IntegerType()))"
   ]
  },
  {
   "cell_type": "code",
   "execution_count": 7,
   "id": "e04a13c2-0ccd-4f19-b9ee-a0a90f4d126e",
   "metadata": {},
   "outputs": [],
   "source": [
    "from pyspark.sql.types import *"
   ]
  },
  {
   "cell_type": "code",
   "execution_count": 42,
   "id": "79f577a2-fdb8-4aa4-9ad2-a8b366f93551",
   "metadata": {
    "scrolled": true
   },
   "outputs": [
    {
     "name": "stdout",
     "output_type": "stream",
     "text": [
      "root\n",
      " |-- id: string (nullable = true)\n",
      " |-- loan_amnt: double (nullable = true)\n",
      " |-- funded_amnt: double (nullable = true)\n",
      " |-- funded_amnt_inv: double (nullable = true)\n",
      " |-- int_rate: double (nullable = true)\n",
      " |-- installment: double (nullable = true)\n",
      " |-- grade: string (nullable = true)\n",
      " |-- sub_grade: string (nullable = true)\n",
      " |-- emp_title: string (nullable = false)\n",
      " |-- home_ownership: string (nullable = true)\n",
      " |-- annual_inc: string (nullable = true)\n",
      " |-- verification_status: string (nullable = true)\n",
      " |-- issue_d: string (nullable = true)\n",
      " |-- loan_status: string (nullable = true)\n",
      " |-- pymnt_plan: string (nullable = true)\n",
      " |-- url: string (nullable = true)\n",
      " |-- desc: string (nullable = true)\n",
      " |-- purpose: string (nullable = true)\n",
      " |-- title: string (nullable = true)\n",
      " |-- zip_code: string (nullable = true)\n",
      " |-- addr_state: string (nullable = true)\n",
      " |-- dti: string (nullable = true)\n",
      " |-- delinq_2yrs: string (nullable = true)\n",
      " |-- earliest_cr_line: string (nullable = true)\n",
      " |-- fico_range_low: string (nullable = true)\n",
      " |-- fico_range_high: string (nullable = true)\n",
      " |-- inq_last_6mths: string (nullable = true)\n",
      " |-- mths_since_last_delinq: string (nullable = true)\n",
      " |-- mths_since_last_record: string (nullable = true)\n",
      " |-- open_acc: string (nullable = true)\n",
      " |-- pub_rec: string (nullable = true)\n",
      " |-- revol_bal: string (nullable = true)\n",
      " |-- revol_util: string (nullable = true)\n",
      " |-- total_acc: string (nullable = true)\n",
      " |-- initial_list_status: string (nullable = true)\n",
      " |-- out_prncp: string (nullable = true)\n",
      " |-- out_prncp_inv: string (nullable = true)\n",
      " |-- total_pymnt: string (nullable = true)\n",
      " |-- total_pymnt_inv: string (nullable = true)\n",
      " |-- total_rec_prncp: string (nullable = true)\n",
      " |-- total_rec_int: string (nullable = true)\n",
      " |-- total_rec_late_fee: string (nullable = true)\n",
      " |-- recoveries: string (nullable = true)\n",
      " |-- collection_recovery_fee: string (nullable = true)\n",
      " |-- last_pymnt_d: string (nullable = true)\n",
      " |-- last_pymnt_amnt: string (nullable = true)\n",
      " |-- next_pymnt_d: string (nullable = true)\n",
      " |-- last_credit_pull_d: string (nullable = true)\n",
      " |-- last_fico_range_high: string (nullable = true)\n",
      " |-- last_fico_range_low: string (nullable = true)\n",
      " |-- collections_12_mths_ex_med: string (nullable = true)\n",
      " |-- mths_since_last_major_derog: string (nullable = true)\n",
      " |-- policy_code: string (nullable = true)\n",
      " |-- application_type: string (nullable = true)\n",
      " |-- annual_inc_joint: string (nullable = true)\n",
      " |-- dti_joint: string (nullable = true)\n",
      " |-- verification_status_joint: string (nullable = true)\n",
      " |-- acc_now_delinq: string (nullable = true)\n",
      " |-- tot_coll_amt: string (nullable = true)\n",
      " |-- tot_cur_bal: string (nullable = true)\n",
      " |-- open_acc_6m: string (nullable = true)\n",
      " |-- open_act_il: string (nullable = true)\n",
      " |-- open_il_12m: string (nullable = true)\n",
      " |-- open_il_24m: string (nullable = true)\n",
      " |-- mths_since_rcnt_il: string (nullable = true)\n",
      " |-- total_bal_il: string (nullable = true)\n",
      " |-- il_util: string (nullable = true)\n",
      " |-- open_rv_12m: string (nullable = true)\n",
      " |-- open_rv_24m: string (nullable = true)\n",
      " |-- max_bal_bc: string (nullable = true)\n",
      " |-- all_util: string (nullable = true)\n",
      " |-- total_rev_hi_lim: string (nullable = true)\n",
      " |-- inq_fi: string (nullable = true)\n",
      " |-- total_cu_tl: string (nullable = true)\n",
      " |-- inq_last_12m: double (nullable = true)\n",
      " |-- acc_open_past_24mths: double (nullable = true)\n",
      " |-- avg_cur_bal: string (nullable = true)\n",
      " |-- bc_open_to_buy: double (nullable = true)\n",
      " |-- bc_util: string (nullable = true)\n",
      " |-- chargeoff_within_12_mths: double (nullable = true)\n",
      " |-- delinq_amnt: double (nullable = true)\n",
      " |-- mo_sin_old_il_acct: double (nullable = true)\n",
      " |-- mo_sin_old_rev_tl_op: double (nullable = true)\n",
      " |-- mo_sin_rcnt_rev_tl_op: double (nullable = true)\n",
      " |-- mo_sin_rcnt_tl: double (nullable = true)\n",
      " |-- mort_acc: double (nullable = true)\n",
      " |-- mths_since_recent_bc: double (nullable = true)\n",
      " |-- mths_since_recent_bc_dlq: double (nullable = true)\n",
      " |-- mths_since_recent_inq: double (nullable = true)\n",
      " |-- mths_since_recent_revol_delinq: double (nullable = true)\n",
      " |-- num_accts_ever_120_pd: double (nullable = true)\n",
      " |-- num_actv_bc_tl: double (nullable = true)\n",
      " |-- num_actv_rev_tl: double (nullable = true)\n",
      " |-- num_bc_sats: double (nullable = true)\n",
      " |-- num_bc_tl: double (nullable = true)\n",
      " |-- num_il_tl: double (nullable = true)\n",
      " |-- num_op_rev_tl: double (nullable = true)\n",
      " |-- num_rev_accts: double (nullable = true)\n",
      " |-- num_rev_tl_bal_gt_0: double (nullable = true)\n",
      " |-- num_sats: double (nullable = true)\n",
      " |-- num_tl_120dpd_2m: double (nullable = true)\n",
      " |-- num_tl_30dpd: double (nullable = true)\n",
      " |-- num_tl_90g_dpd_24m: double (nullable = true)\n",
      " |-- num_tl_op_past_12m: double (nullable = true)\n",
      " |-- pct_tl_nvr_dlq: double (nullable = true)\n",
      " |-- percent_bc_gt_75: double (nullable = true)\n",
      " |-- pub_rec_bankruptcies: double (nullable = true)\n",
      " |-- tax_liens: double (nullable = true)\n",
      " |-- tot_hi_cred_lim: double (nullable = true)\n",
      " |-- total_bal_ex_mort: double (nullable = true)\n",
      " |-- total_bc_limit: double (nullable = true)\n",
      " |-- total_il_high_credit_limit: double (nullable = true)\n",
      " |-- revol_bal_joint: double (nullable = true)\n",
      " |-- sec_app_fico_range_low: double (nullable = true)\n",
      " |-- sec_app_fico_range_high: double (nullable = true)\n",
      " |-- sec_app_earliest_cr_line: string (nullable = true)\n",
      " |-- sec_app_inq_last_6mths: double (nullable = true)\n",
      " |-- sec_app_mort_acc: double (nullable = true)\n",
      " |-- sec_app_open_acc: double (nullable = true)\n",
      " |-- sec_app_revol_util: double (nullable = true)\n",
      " |-- sec_app_open_act_il: double (nullable = true)\n",
      " |-- sec_app_num_rev_accts: double (nullable = true)\n",
      " |-- sec_app_chargeoff_within_12_mths: double (nullable = true)\n",
      " |-- sec_app_collections_12_mths_ex_med: double (nullable = true)\n",
      " |-- sec_app_mths_since_last_major_derog: double (nullable = true)\n",
      " |-- hardship_flag: string (nullable = true)\n",
      " |-- hardship_type: string (nullable = true)\n",
      " |-- hardship_reason: string (nullable = true)\n",
      " |-- hardship_status: string (nullable = true)\n",
      " |-- deferral_term: string (nullable = true)\n",
      " |-- hardship_amount: string (nullable = true)\n",
      " |-- hardship_start_date: string (nullable = true)\n",
      " |-- hardship_end_date: string (nullable = true)\n",
      " |-- payment_plan_start_date: string (nullable = true)\n",
      " |-- hardship_length: string (nullable = true)\n",
      " |-- hardship_dpd: string (nullable = true)\n",
      " |-- hardship_loan_status: string (nullable = true)\n",
      " |-- orig_projected_additional_accrued_interest: string (nullable = true)\n",
      " |-- hardship_payoff_balance_amount: string (nullable = true)\n",
      " |-- hardship_last_payment_amount: string (nullable = true)\n",
      " |-- disbursement_method: string (nullable = true)\n",
      " |-- debt_settlement_flag: string (nullable = true)\n",
      " |-- debt_settlement_flag_date: string (nullable = true)\n",
      " |-- settlement_status: string (nullable = true)\n",
      " |-- settlement_date: string (nullable = true)\n",
      " |-- settlement_amount: string (nullable = true)\n",
      " |-- settlement_percentage: string (nullable = true)\n",
      " |-- settlement_term: string (nullable = true)\n",
      " |-- term_in_month: string (nullable = true)\n",
      " |-- Emp_length_years: integer (nullable = true)\n",
      "\n"
     ]
    }
   ],
   "source": [
    "final_data.printSchema()# it as been converted the interger type to string"
   ]
  },
  {
   "cell_type": "code",
   "execution_count": 8,
   "id": "afaecc2f-656e-48a1-a659-b2444304fdcf",
   "metadata": {},
   "outputs": [],
   "source": [
    "#let try covert the sting type of annula inc to boolean\n",
    "final_data=final_data.withColumn('annual_inc',final_data['annual_inc'].cast(BooleanType()))"
   ]
  },
  {
   "cell_type": "code",
   "execution_count": 52,
   "id": "d7e464ef-9482-45b3-ad4c-16c48b05aa13",
   "metadata": {
    "scrolled": true
   },
   "outputs": [
    {
     "name": "stdout",
     "output_type": "stream",
     "text": [
      "root\n",
      " |-- id: string (nullable = true)\n",
      " |-- loan_amnt: double (nullable = true)\n",
      " |-- funded_amnt: double (nullable = true)\n",
      " |-- funded_amnt_inv: double (nullable = true)\n",
      " |-- int_rate: double (nullable = true)\n",
      " |-- installment: double (nullable = true)\n",
      " |-- grade: string (nullable = true)\n",
      " |-- sub_grade: string (nullable = true)\n",
      " |-- emp_title: string (nullable = false)\n",
      " |-- home_ownership: string (nullable = true)\n",
      " |-- annual_inc: boolean (nullable = true)\n",
      " |-- verification_status: string (nullable = true)\n",
      " |-- issue_d: string (nullable = true)\n",
      " |-- loan_status: string (nullable = true)\n",
      " |-- pymnt_plan: string (nullable = true)\n",
      " |-- url: string (nullable = true)\n",
      " |-- desc: string (nullable = true)\n",
      " |-- purpose: string (nullable = true)\n",
      " |-- title: string (nullable = true)\n",
      " |-- zip_code: string (nullable = true)\n",
      " |-- addr_state: string (nullable = true)\n",
      " |-- dti: string (nullable = true)\n",
      " |-- delinq_2yrs: string (nullable = true)\n",
      " |-- earliest_cr_line: string (nullable = true)\n",
      " |-- fico_range_low: string (nullable = true)\n",
      " |-- fico_range_high: string (nullable = true)\n",
      " |-- inq_last_6mths: string (nullable = true)\n",
      " |-- mths_since_last_delinq: string (nullable = true)\n",
      " |-- mths_since_last_record: string (nullable = true)\n",
      " |-- open_acc: string (nullable = true)\n",
      " |-- pub_rec: string (nullable = true)\n",
      " |-- revol_bal: string (nullable = true)\n",
      " |-- revol_util: string (nullable = true)\n",
      " |-- total_acc: string (nullable = true)\n",
      " |-- initial_list_status: string (nullable = true)\n",
      " |-- out_prncp: string (nullable = true)\n",
      " |-- out_prncp_inv: string (nullable = true)\n",
      " |-- total_pymnt: string (nullable = true)\n",
      " |-- total_pymnt_inv: string (nullable = true)\n",
      " |-- total_rec_prncp: string (nullable = true)\n",
      " |-- total_rec_int: string (nullable = true)\n",
      " |-- total_rec_late_fee: string (nullable = true)\n",
      " |-- recoveries: string (nullable = true)\n",
      " |-- collection_recovery_fee: string (nullable = true)\n",
      " |-- last_pymnt_d: string (nullable = true)\n",
      " |-- last_pymnt_amnt: string (nullable = true)\n",
      " |-- next_pymnt_d: string (nullable = true)\n",
      " |-- last_credit_pull_d: string (nullable = true)\n",
      " |-- last_fico_range_high: string (nullable = true)\n",
      " |-- last_fico_range_low: string (nullable = true)\n",
      " |-- collections_12_mths_ex_med: string (nullable = true)\n",
      " |-- mths_since_last_major_derog: string (nullable = true)\n",
      " |-- policy_code: string (nullable = true)\n",
      " |-- application_type: string (nullable = true)\n",
      " |-- annual_inc_joint: string (nullable = true)\n",
      " |-- dti_joint: string (nullable = true)\n",
      " |-- verification_status_joint: string (nullable = true)\n",
      " |-- acc_now_delinq: string (nullable = true)\n",
      " |-- tot_coll_amt: string (nullable = true)\n",
      " |-- tot_cur_bal: string (nullable = true)\n",
      " |-- open_acc_6m: string (nullable = true)\n",
      " |-- open_act_il: string (nullable = true)\n",
      " |-- open_il_12m: string (nullable = true)\n",
      " |-- open_il_24m: string (nullable = true)\n",
      " |-- mths_since_rcnt_il: string (nullable = true)\n",
      " |-- total_bal_il: string (nullable = true)\n",
      " |-- il_util: string (nullable = true)\n",
      " |-- open_rv_12m: string (nullable = true)\n",
      " |-- open_rv_24m: string (nullable = true)\n",
      " |-- max_bal_bc: string (nullable = true)\n",
      " |-- all_util: string (nullable = true)\n",
      " |-- total_rev_hi_lim: string (nullable = true)\n",
      " |-- inq_fi: string (nullable = true)\n",
      " |-- total_cu_tl: string (nullable = true)\n",
      " |-- inq_last_12m: double (nullable = true)\n",
      " |-- acc_open_past_24mths: double (nullable = true)\n",
      " |-- avg_cur_bal: string (nullable = true)\n",
      " |-- bc_open_to_buy: double (nullable = true)\n",
      " |-- bc_util: string (nullable = true)\n",
      " |-- chargeoff_within_12_mths: double (nullable = true)\n",
      " |-- delinq_amnt: double (nullable = true)\n",
      " |-- mo_sin_old_il_acct: double (nullable = true)\n",
      " |-- mo_sin_old_rev_tl_op: double (nullable = true)\n",
      " |-- mo_sin_rcnt_rev_tl_op: double (nullable = true)\n",
      " |-- mo_sin_rcnt_tl: double (nullable = true)\n",
      " |-- mort_acc: double (nullable = true)\n",
      " |-- mths_since_recent_bc: double (nullable = true)\n",
      " |-- mths_since_recent_bc_dlq: double (nullable = true)\n",
      " |-- mths_since_recent_inq: double (nullable = true)\n",
      " |-- mths_since_recent_revol_delinq: double (nullable = true)\n",
      " |-- num_accts_ever_120_pd: double (nullable = true)\n",
      " |-- num_actv_bc_tl: double (nullable = true)\n",
      " |-- num_actv_rev_tl: double (nullable = true)\n",
      " |-- num_bc_sats: double (nullable = true)\n",
      " |-- num_bc_tl: double (nullable = true)\n",
      " |-- num_il_tl: double (nullable = true)\n",
      " |-- num_op_rev_tl: double (nullable = true)\n",
      " |-- num_rev_accts: double (nullable = true)\n",
      " |-- num_rev_tl_bal_gt_0: double (nullable = true)\n",
      " |-- num_sats: double (nullable = true)\n",
      " |-- num_tl_120dpd_2m: double (nullable = true)\n",
      " |-- num_tl_30dpd: double (nullable = true)\n",
      " |-- num_tl_90g_dpd_24m: double (nullable = true)\n",
      " |-- num_tl_op_past_12m: double (nullable = true)\n",
      " |-- pct_tl_nvr_dlq: double (nullable = true)\n",
      " |-- percent_bc_gt_75: double (nullable = true)\n",
      " |-- pub_rec_bankruptcies: double (nullable = true)\n",
      " |-- tax_liens: double (nullable = true)\n",
      " |-- tot_hi_cred_lim: double (nullable = true)\n",
      " |-- total_bal_ex_mort: double (nullable = true)\n",
      " |-- total_bc_limit: double (nullable = true)\n",
      " |-- total_il_high_credit_limit: double (nullable = true)\n",
      " |-- revol_bal_joint: double (nullable = true)\n",
      " |-- sec_app_fico_range_low: double (nullable = true)\n",
      " |-- sec_app_fico_range_high: double (nullable = true)\n",
      " |-- sec_app_earliest_cr_line: string (nullable = true)\n",
      " |-- sec_app_inq_last_6mths: double (nullable = true)\n",
      " |-- sec_app_mort_acc: double (nullable = true)\n",
      " |-- sec_app_open_acc: double (nullable = true)\n",
      " |-- sec_app_revol_util: double (nullable = true)\n",
      " |-- sec_app_open_act_il: double (nullable = true)\n",
      " |-- sec_app_num_rev_accts: double (nullable = true)\n",
      " |-- sec_app_chargeoff_within_12_mths: double (nullable = true)\n",
      " |-- sec_app_collections_12_mths_ex_med: double (nullable = true)\n",
      " |-- sec_app_mths_since_last_major_derog: double (nullable = true)\n",
      " |-- hardship_flag: string (nullable = true)\n",
      " |-- hardship_type: string (nullable = true)\n",
      " |-- hardship_reason: string (nullable = true)\n",
      " |-- hardship_status: string (nullable = true)\n",
      " |-- deferral_term: string (nullable = true)\n",
      " |-- hardship_amount: string (nullable = true)\n",
      " |-- hardship_start_date: string (nullable = true)\n",
      " |-- hardship_end_date: string (nullable = true)\n",
      " |-- payment_plan_start_date: string (nullable = true)\n",
      " |-- hardship_length: string (nullable = true)\n",
      " |-- hardship_dpd: string (nullable = true)\n",
      " |-- hardship_loan_status: string (nullable = true)\n",
      " |-- orig_projected_additional_accrued_interest: string (nullable = true)\n",
      " |-- hardship_payoff_balance_amount: string (nullable = true)\n",
      " |-- hardship_last_payment_amount: string (nullable = true)\n",
      " |-- disbursement_method: string (nullable = true)\n",
      " |-- debt_settlement_flag: string (nullable = true)\n",
      " |-- debt_settlement_flag_date: string (nullable = true)\n",
      " |-- settlement_status: string (nullable = true)\n",
      " |-- settlement_date: string (nullable = true)\n",
      " |-- settlement_amount: string (nullable = true)\n",
      " |-- settlement_percentage: string (nullable = true)\n",
      " |-- settlement_term: string (nullable = true)\n",
      " |-- term_in_month: string (nullable = true)\n",
      " |-- Emp_length_years: integer (nullable = true)\n",
      "\n"
     ]
    }
   ],
   "source": [
    "final_data.printSchema()  # annual_inc: boolean (nullable = true) "
   ]
  },
  {
   "cell_type": "code",
   "execution_count": 6,
   "id": "40cabc0f-af2a-4f77-994c-c73961c71358",
   "metadata": {},
   "outputs": [
    {
     "name": "stdout",
     "output_type": "stream",
     "text": [
      "+-----+--------+----------+----+-----------+----------------+--------------+---------------+\n",
      "|title|zip_code|addr_state| dti|delinq_2yrs|earliest_cr_line|fico_range_low|fico_range_high|\n",
      "+-----+--------+----------+----+-----------+----------------+--------------+---------------+\n",
      "|23325|       1|         0|1711|         29|              29|             0|              0|\n",
      "+-----+--------+----------+----+-----------+----------------+--------------+---------------+\n",
      "\n"
     ]
    }
   ],
   "source": [
    "final_data.select([count(when(isnan(c)|col(c).isNull(),c)).alias(c) for c in col4]).show()"
   ]
  },
  {
   "cell_type": "code",
   "execution_count": 19,
   "id": "d7cb5730-7a2e-45d2-8ec1-0d5178794504",
   "metadata": {},
   "outputs": [
    {
     "name": "stdout",
     "output_type": "stream",
     "text": [
      "+-----------------------+--------+----------+-----+-----------+----------------+--------------+---------------+\n",
      "|title                  |zip_code|addr_state|dti  |delinq_2yrs|earliest_cr_line|fico_range_low|fico_range_high|\n",
      "+-----------------------+--------+----------+-----+-----------+----------------+--------------+---------------+\n",
      "|Debt consolidation     |190xx   |PA        |5.91 |0.0        |Aug-2003        |675.0         |679.0          |\n",
      "|Business               |577xx   |SD        |16.06|1.0        |Dec-1999        |715.0         |719.0          |\n",
      "|NULL                   |605xx   |IL        |10.78|0.0        |Aug-2000        |695.0         |699.0          |\n",
      "|Debt consolidation     |076xx   |NJ        |17.06|0.0        |Sep-2008        |785.0         |789.0          |\n",
      "|Major purchase         |174xx   |PA        |25.37|1.0        |Jun-1998        |695.0         |699.0          |\n",
      "|Debt consolidation     |300xx   |GA        |10.2 |0.0        |Oct-1987        |690.0         |694.0          |\n",
      "|Debt consolidation     |550xx   |MN        |14.67|0.0        |Jun-1990        |680.0         |684.0          |\n",
      "|Major purchase         |293xx   |SC        |17.61|1.0        |Feb-1999        |705.0         |709.0          |\n",
      "|Credit card refinancing|160xx   |PA        |13.07|0.0        |Apr-2002        |685.0         |689.0          |\n",
      "|Credit card refinancing|029xx   |RI        |34.8 |0.0        |Nov-1994        |700.0         |704.0          |\n",
      "+-----------------------+--------+----------+-----+-----------+----------------+--------------+---------------+\n",
      "only showing top 10 rows\n",
      "\n"
     ]
    }
   ],
   "source": [
    "final_data.select(col4).show(10,False)"
   ]
  },
  {
   "cell_type": "code",
   "execution_count": 20,
   "id": "dde9895e-2214-490f-944d-0f22fa19a8dd",
   "metadata": {},
   "outputs": [
    {
     "data": {
      "text/plain": [
       "63169"
      ]
     },
     "execution_count": 20,
     "metadata": {},
     "output_type": "execute_result"
    }
   ],
   "source": [
    "final_data.select(\"title\").distinct().count()"
   ]
  },
  {
   "cell_type": "code",
   "execution_count": 26,
   "id": "6958ded9-f38d-4e27-bba8-13c0fa9a3027",
   "metadata": {},
   "outputs": [],
   "source": [
    "final_data=final_data.fillna('NULL',subset=['title'])"
   ]
  },
  {
   "cell_type": "code",
   "execution_count": 29,
   "id": "40119001-8d0f-4fa5-a881-98a46787c10a",
   "metadata": {},
   "outputs": [
    {
     "data": {
      "text/plain": [
       "0"
      ]
     },
     "execution_count": 29,
     "metadata": {},
     "output_type": "execute_result"
    }
   ],
   "source": [
    "final_data.filter(col('title').isNull()).count()"
   ]
  },
  {
   "cell_type": "code",
   "execution_count": 38,
   "id": "633f0924-1a71-46c5-9bdd-676d1cd4d49f",
   "metadata": {
    "scrolled": true
   },
   "outputs": [
    {
     "name": "stdout",
     "output_type": "stream",
     "text": [
      "+--------+\n",
      "|zip_code|\n",
      "+--------+\n",
      "|   471xx|\n",
      "|   418xx|\n",
      "|   230xx|\n",
      "|   957xx|\n",
      "|   223xx|\n",
      "|   143xx|\n",
      "|   751xx|\n",
      "|   183xx|\n",
      "|   154xx|\n",
      "|   371xx|\n",
      "|   591xx|\n",
      "|   831xx|\n",
      "|   287xx|\n",
      "|   535xx|\n",
      "|   756xx|\n",
      "|   179xx|\n",
      "|   216xx|\n",
      "|   625xx|\n",
      "|   895xx|\n",
      "|   387xx|\n",
      "+--------+\n",
      "only showing top 20 rows\n",
      "\n"
     ]
    }
   ],
   "source": [
    "final_data.select('zip_code').distinct().show()"
   ]
  },
  {
   "cell_type": "code",
   "execution_count": 41,
   "id": "7d8eccdc-6742-4c49-9077-b2b2aa9e9c68",
   "metadata": {},
   "outputs": [
    {
     "data": {
      "text/plain": [
       "0"
      ]
     },
     "execution_count": 41,
     "metadata": {},
     "output_type": "execute_result"
    }
   ],
   "source": [
    "final_data.select('zip_code').filter(length(col('zip_code'))>5).count()"
   ]
  },
  {
   "cell_type": "code",
   "execution_count": 42,
   "id": "fb1fec59-41b3-4054-9916-bee4f459b00d",
   "metadata": {},
   "outputs": [
    {
     "name": "stdout",
     "output_type": "stream",
     "text": [
      "+--------+\n",
      "|zip_code|\n",
      "+--------+\n",
      "+--------+\n",
      "\n"
     ]
    }
   ],
   "source": [
    "final_data.select('zip_code').filter(length(col('zip_code'))<5).show()"
   ]
  },
  {
   "cell_type": "code",
   "execution_count": 38,
   "id": "f9426f02-7da2-430f-9a02-f07e09a9d425",
   "metadata": {},
   "outputs": [
    {
     "data": {
      "text/plain": [
       "51"
      ]
     },
     "execution_count": 38,
     "metadata": {},
     "output_type": "execute_result"
    }
   ],
   "source": [
    "final_data.select('addr_state').distinct().count()"
   ]
  },
  {
   "cell_type": "code",
   "execution_count": 13,
   "id": "ebca8654-25f3-47ae-9763-8e905760ee90",
   "metadata": {},
   "outputs": [],
   "source": [
    "final_data = final_data.fillna('N/A',subset=['addr_state'])"
   ]
  },
  {
   "cell_type": "code",
   "execution_count": 18,
   "id": "af183a40-c18c-4f74-9903-9c3cfc841f86",
   "metadata": {
    "scrolled": true
   },
   "outputs": [
    {
     "name": "stdout",
     "output_type": "stream",
     "text": [
      "+-----+\n",
      "|  dti|\n",
      "+-----+\n",
      "|17.42|\n",
      "|20.64|\n",
      "|28.37|\n",
      "|  8.5|\n",
      "|28.79|\n",
      "|19.06|\n",
      "|13.87|\n",
      "|34.71|\n",
      "|26.63|\n",
      "|23.97|\n",
      "|31.47|\n",
      "| 7.16|\n",
      "|36.65|\n",
      "|30.86|\n",
      "|37.21|\n",
      "|34.63|\n",
      "| 10.7|\n",
      "|18.96|\n",
      "| 20.5|\n",
      "|11.83|\n",
      "+-----+\n",
      "only showing top 20 rows\n",
      "\n"
     ]
    }
   ],
   "source": [
    "final_data.select('dti').distinct().show()"
   ]
  },
  {
   "cell_type": "code",
   "execution_count": 40,
   "id": "8ee9871c-12cf-4af0-814b-19719996fae3",
   "metadata": {},
   "outputs": [
    {
     "data": {
      "text/plain": [
       "0"
      ]
     },
     "execution_count": 40,
     "metadata": {},
     "output_type": "execute_result"
    }
   ],
   "source": [
    "final_data.select('dti').filter(col('dti').rlike('^[a-zA-z]')).count()"
   ]
  },
  {
   "cell_type": "code",
   "execution_count": 39,
   "id": "fb2f8e89-c854-46e5-9042-12639fce03e2",
   "metadata": {},
   "outputs": [
    {
     "name": "stdout",
     "output_type": "stream",
     "text": [
      "+---+\n",
      "|dti|\n",
      "+---+\n",
      "+---+\n",
      "\n"
     ]
    }
   ],
   "source": [
    "final_data.select('dti').filter(col('dti').rlike('^[a-zA-z]')).show()"
   ]
  },
  {
   "cell_type": "code",
   "execution_count": 23,
   "id": "192f2fdb-17d9-4a79-a69b-9b477da6fce1",
   "metadata": {
    "scrolled": true
   },
   "outputs": [
    {
     "name": "stdout",
     "output_type": "stream",
     "text": [
      "root\n",
      " |-- id: string (nullable = true)\n",
      " |-- member_id: string (nullable = true)\n",
      " |-- loan_amnt: double (nullable = true)\n",
      " |-- funded_amnt: double (nullable = true)\n",
      " |-- funded_amnt_inv: double (nullable = true)\n",
      " |-- term: string (nullable = true)\n",
      " |-- int_rate: double (nullable = true)\n",
      " |-- installment: double (nullable = true)\n",
      " |-- grade: string (nullable = true)\n",
      " |-- sub_grade: string (nullable = true)\n",
      " |-- emp_title: string (nullable = true)\n",
      " |-- emp_length: string (nullable = true)\n",
      " |-- home_ownership: string (nullable = true)\n",
      " |-- annual_inc: double (nullable = true)\n",
      " |-- verification_status: string (nullable = true)\n",
      " |-- issue_d: string (nullable = true)\n",
      " |-- loan_status: string (nullable = true)\n",
      " |-- pymnt_plan: string (nullable = true)\n",
      " |-- url: string (nullable = true)\n",
      " |-- desc: string (nullable = true)\n",
      " |-- purpose: string (nullable = true)\n",
      " |-- title: string (nullable = true)\n",
      " |-- zip_code: string (nullable = true)\n",
      " |-- addr_state: string (nullable = true)\n",
      " |-- dti: double (nullable = true)\n",
      " |-- delinq_2yrs: double (nullable = true)\n",
      " |-- earliest_cr_line: string (nullable = true)\n",
      " |-- fico_range_low: double (nullable = true)\n",
      " |-- fico_range_high: double (nullable = true)\n",
      " |-- inq_last_6mths: double (nullable = true)\n",
      " |-- mths_since_last_delinq: double (nullable = true)\n",
      " |-- mths_since_last_record: double (nullable = true)\n",
      " |-- open_acc: double (nullable = true)\n",
      " |-- pub_rec: double (nullable = true)\n",
      " |-- revol_bal: double (nullable = true)\n",
      " |-- revol_util: double (nullable = true)\n",
      " |-- total_acc: double (nullable = true)\n",
      " |-- initial_list_status: string (nullable = true)\n",
      " |-- out_prncp: double (nullable = true)\n",
      " |-- out_prncp_inv: double (nullable = true)\n",
      " |-- total_pymnt: double (nullable = true)\n",
      " |-- total_pymnt_inv: double (nullable = true)\n",
      " |-- total_rec_prncp: double (nullable = true)\n",
      " |-- total_rec_int: double (nullable = true)\n",
      " |-- total_rec_late_fee: double (nullable = true)\n",
      " |-- recoveries: double (nullable = true)\n",
      " |-- collection_recovery_fee: double (nullable = true)\n",
      " |-- last_pymnt_d: string (nullable = true)\n",
      " |-- last_pymnt_amnt: double (nullable = true)\n",
      " |-- next_pymnt_d: string (nullable = true)\n",
      " |-- last_credit_pull_d: string (nullable = true)\n",
      " |-- last_fico_range_high: double (nullable = true)\n",
      " |-- last_fico_range_low: double (nullable = true)\n",
      " |-- collections_12_mths_ex_med: double (nullable = true)\n",
      " |-- mths_since_last_major_derog: double (nullable = true)\n",
      " |-- policy_code: double (nullable = true)\n",
      " |-- application_type: string (nullable = true)\n",
      " |-- annual_inc_joint: double (nullable = true)\n",
      " |-- dti_joint: double (nullable = true)\n",
      " |-- verification_status_joint: string (nullable = true)\n",
      " |-- acc_now_delinq: double (nullable = true)\n",
      " |-- tot_coll_amt: double (nullable = true)\n",
      " |-- tot_cur_bal: double (nullable = true)\n",
      " |-- open_acc_6m: double (nullable = true)\n",
      " |-- open_act_il: double (nullable = true)\n",
      " |-- open_il_12m: double (nullable = true)\n",
      " |-- open_il_24m: double (nullable = true)\n",
      " |-- mths_since_rcnt_il: double (nullable = true)\n",
      " |-- total_bal_il: double (nullable = true)\n",
      " |-- il_util: double (nullable = true)\n",
      " |-- open_rv_12m: double (nullable = true)\n",
      " |-- open_rv_24m: double (nullable = true)\n",
      " |-- max_bal_bc: double (nullable = true)\n",
      " |-- all_util: double (nullable = true)\n",
      " |-- total_rev_hi_lim: double (nullable = true)\n",
      " |-- inq_fi: double (nullable = true)\n",
      " |-- total_cu_tl: double (nullable = true)\n",
      " |-- inq_last_12m: double (nullable = true)\n",
      " |-- acc_open_past_24mths: double (nullable = true)\n",
      " |-- avg_cur_bal: double (nullable = true)\n",
      " |-- bc_open_to_buy: double (nullable = true)\n",
      " |-- bc_util: double (nullable = true)\n",
      " |-- chargeoff_within_12_mths: double (nullable = true)\n",
      " |-- delinq_amnt: double (nullable = true)\n",
      " |-- mo_sin_old_il_acct: double (nullable = true)\n",
      " |-- mo_sin_old_rev_tl_op: double (nullable = true)\n",
      " |-- mo_sin_rcnt_rev_tl_op: double (nullable = true)\n",
      " |-- mo_sin_rcnt_tl: double (nullable = true)\n",
      " |-- mort_acc: double (nullable = true)\n",
      " |-- mths_since_recent_bc: double (nullable = true)\n",
      " |-- mths_since_recent_bc_dlq: double (nullable = true)\n",
      " |-- mths_since_recent_inq: double (nullable = true)\n",
      " |-- mths_since_recent_revol_delinq: double (nullable = true)\n",
      " |-- num_accts_ever_120_pd: double (nullable = true)\n",
      " |-- num_actv_bc_tl: double (nullable = true)\n",
      " |-- num_actv_rev_tl: double (nullable = true)\n",
      " |-- num_bc_sats: double (nullable = true)\n",
      " |-- num_bc_tl: double (nullable = true)\n",
      " |-- num_il_tl: double (nullable = true)\n",
      " |-- num_op_rev_tl: double (nullable = true)\n",
      " |-- num_rev_accts: double (nullable = true)\n",
      " |-- num_rev_tl_bal_gt_0: double (nullable = true)\n",
      " |-- num_sats: double (nullable = true)\n",
      " |-- num_tl_120dpd_2m: double (nullable = true)\n",
      " |-- num_tl_30dpd: double (nullable = true)\n",
      " |-- num_tl_90g_dpd_24m: double (nullable = true)\n",
      " |-- num_tl_op_past_12m: double (nullable = true)\n",
      " |-- pct_tl_nvr_dlq: double (nullable = true)\n",
      " |-- percent_bc_gt_75: double (nullable = true)\n",
      " |-- pub_rec_bankruptcies: double (nullable = true)\n",
      " |-- tax_liens: double (nullable = true)\n",
      " |-- tot_hi_cred_lim: double (nullable = true)\n",
      " |-- total_bal_ex_mort: double (nullable = true)\n",
      " |-- total_bc_limit: double (nullable = true)\n",
      " |-- total_il_high_credit_limit: double (nullable = true)\n",
      " |-- revol_bal_joint: double (nullable = true)\n",
      " |-- sec_app_fico_range_low: double (nullable = true)\n",
      " |-- sec_app_fico_range_high: double (nullable = true)\n",
      " |-- sec_app_earliest_cr_line: string (nullable = true)\n",
      " |-- sec_app_inq_last_6mths: double (nullable = true)\n",
      " |-- sec_app_mort_acc: double (nullable = true)\n",
      " |-- sec_app_open_acc: double (nullable = true)\n",
      " |-- sec_app_revol_util: double (nullable = true)\n",
      " |-- sec_app_open_act_il: double (nullable = true)\n",
      " |-- sec_app_num_rev_accts: double (nullable = true)\n",
      " |-- sec_app_chargeoff_within_12_mths: double (nullable = true)\n",
      " |-- sec_app_collections_12_mths_ex_med: double (nullable = true)\n",
      " |-- sec_app_mths_since_last_major_derog: double (nullable = true)\n",
      " |-- hardship_flag: string (nullable = true)\n",
      " |-- hardship_type: string (nullable = true)\n",
      " |-- hardship_reason: string (nullable = true)\n",
      " |-- hardship_status: string (nullable = true)\n",
      " |-- deferral_term: double (nullable = true)\n",
      " |-- hardship_amount: double (nullable = true)\n",
      " |-- hardship_start_date: string (nullable = true)\n",
      " |-- hardship_end_date: string (nullable = true)\n",
      " |-- payment_plan_start_date: string (nullable = true)\n",
      " |-- hardship_length: double (nullable = true)\n",
      " |-- hardship_dpd: double (nullable = true)\n",
      " |-- hardship_loan_status: string (nullable = true)\n",
      " |-- orig_projected_additional_accrued_interest: double (nullable = true)\n",
      " |-- hardship_payoff_balance_amount: double (nullable = true)\n",
      " |-- hardship_last_payment_amount: double (nullable = true)\n",
      " |-- disbursement_method: string (nullable = true)\n",
      " |-- debt_settlement_flag: string (nullable = true)\n",
      " |-- debt_settlement_flag_date: string (nullable = true)\n",
      " |-- settlement_status: string (nullable = true)\n",
      " |-- settlement_date: string (nullable = true)\n",
      " |-- settlement_amount: double (nullable = true)\n",
      " |-- settlement_percentage: double (nullable = true)\n",
      " |-- settlement_term: double (nullable = true)\n",
      "\n"
     ]
    }
   ],
   "source": [
    "final_data.printSchema()"
   ]
  },
  {
   "cell_type": "code",
   "execution_count": 30,
   "id": "d0bee03b-c8f9-452f-81f5-4dab819e3cca",
   "metadata": {},
   "outputs": [],
   "source": [
    "#we are filling the mean values for the dti column\n",
    "meand_dti=final_data.select(mean(final_data['dti'])).collect()[0][0]\n"
   ]
  },
  {
   "cell_type": "code",
   "execution_count": 32,
   "id": "a439cde5-0bbb-438c-bbdd-635db96293bc",
   "metadata": {},
   "outputs": [],
   "source": [
    "#replace null values in the dti column with the mean values\n",
    "final_data=final_data.fillna({'dti':meand_dti})"
   ]
  },
  {
   "cell_type": "code",
   "execution_count": 34,
   "id": "4f01c264-2cda-44e6-add1-46dcc18dd494",
   "metadata": {},
   "outputs": [
    {
     "data": {
      "text/plain": [
       "0"
      ]
     },
     "execution_count": 34,
     "metadata": {},
     "output_type": "execute_result"
    }
   ],
   "source": [
    "final_data.select('dti').filter(col('dti').isNull()).count()"
   ]
  },
  {
   "cell_type": "code",
   "execution_count": 35,
   "id": "43165351-3727-4740-b54a-968e8ea99952",
   "metadata": {},
   "outputs": [],
   "source": [
    "mean_dti=final_data.select(mean(final_data['delinq_2yrs'])).collect()[0][0]"
   ]
  },
  {
   "cell_type": "code",
   "execution_count": 36,
   "id": "6144ccd4-ec67-4e76-959a-d218429cf8cc",
   "metadata": {},
   "outputs": [],
   "source": [
    "final_data=final_data.fillna({'delinq_2yrs':mean_dti})"
   ]
  },
  {
   "cell_type": "code",
   "execution_count": 37,
   "id": "3eebbe77-b01d-4f65-8493-4a8d01f56706",
   "metadata": {},
   "outputs": [
    {
     "data": {
      "text/plain": [
       "0"
      ]
     },
     "execution_count": 37,
     "metadata": {},
     "output_type": "execute_result"
    }
   ],
   "source": [
    "final_data.select('delinq_2yrs').filter(col('delinq_2yrs').isNull()).count()"
   ]
  },
  {
   "cell_type": "code",
   "execution_count": 39,
   "id": "3e1f28b8-12ca-48ee-9319-9137b3d67147",
   "metadata": {},
   "outputs": [
    {
     "name": "stdout",
     "output_type": "stream",
     "text": [
      "+----------------+\n",
      "|earliest_cr_line|\n",
      "+----------------+\n",
      "|        Jan-1999|\n",
      "|        Jul-1996|\n",
      "|        Nov-1978|\n",
      "|        May-1977|\n",
      "|        Mar-1999|\n",
      "|        Sep-1987|\n",
      "|        Jul-1989|\n",
      "|        Jun-1979|\n",
      "|        May-1973|\n",
      "|        Mar-1960|\n",
      "|        May-1993|\n",
      "|        Apr-1988|\n",
      "|        Sep-1998|\n",
      "|        Jun-1985|\n",
      "|        Oct-1975|\n",
      "|        Feb-1961|\n",
      "|        Jan-1953|\n",
      "|        Dec-1981|\n",
      "|        Jun-1989|\n",
      "|        Oct-1965|\n",
      "+----------------+\n",
      "only showing top 20 rows\n",
      "\n"
     ]
    }
   ],
   "source": [
    "final_data.select('earliest_cr_line').distinct().show()"
   ]
  },
  {
   "cell_type": "code",
   "execution_count": 46,
   "id": "57698b67-4bfe-4eb6-8746-d0c6e9c4e82f",
   "metadata": {},
   "outputs": [
    {
     "data": {
      "text/plain": [
       "33"
      ]
     },
     "execution_count": 46,
     "metadata": {},
     "output_type": "execute_result"
    }
   ],
   "source": [
    "#to check if all col have a null value for this id\n",
    "data.select(\"*\").filter(col(\"id\").rlike('^[A-Za-z]')).count()"
   ]
  },
  {
   "cell_type": "code",
   "execution_count": null,
   "id": "af530393-0f91-4d90-ba1f-dabde93e50e1",
   "metadata": {},
   "outputs": [],
   "source": []
  },
  {
   "cell_type": "code",
   "execution_count": 4,
   "id": "d9b19bdc-613d-43f3-968c-46b88b6b9bc7",
   "metadata": {},
   "outputs": [
    {
     "name": "stdout",
     "output_type": "stream",
     "text": [
      "+---+---------+---------+-----------+---------------+----+--------+-----------+-----+---------+---------+----------+--------------+----------+-------------------+-------+-----------+----------+---+-------+-------+-----+--------+----------+----+-----------+----------------+--------------+---------------+--------------+----------------------+----------------------+--------+-------+---------+----------+---------+-------------------+---------+-------------+-----------+---------------+---------------+-------------+------------------+----------+-----------------------+------------+---------------+------------+------------------+--------------------+-------------------+--------------------------+---------------------------+-----------+----------------+----------------+---------+-------------------------+--------------+------------+-----------+-----------+-----------+-----------+-----------+------------------+------------+-------+-----------+-----------+----------+--------+----------------+------+-----------+------------+--------------------+-----------+--------------+-------+------------------------+-----------+------------------+--------------------+---------------------+--------------+--------+--------------------+------------------------+---------------------+------------------------------+---------------------+--------------+---------------+-----------+---------+---------+-------------+-------------+-------------------+--------+----------------+------------+------------------+------------------+--------------+----------------+--------------------+---------+---------------+-----------------+--------------+--------------------------+---------------+----------------------+-----------------------+------------------------+----------------------+----------------+----------------+------------------+-------------------+---------------------+--------------------------------+----------------------------------+-----------------------------------+-------------+-------------+---------------+---------------+-------------+---------------+-------------------+-----------------+-----------------------+---------------+------------+--------------------+------------------------------------------+------------------------------+----------------------------+-------------------+--------------------+-------------------------+-----------------+---------------+-----------------+---------------------+---------------+\n",
      "| id|member_id|loan_amnt|funded_amnt|funded_amnt_inv|term|int_rate|installment|grade|sub_grade|emp_title|emp_length|home_ownership|annual_inc|verification_status|issue_d|loan_status|pymnt_plan|url|   desc|purpose|title|zip_code|addr_state| dti|delinq_2yrs|earliest_cr_line|fico_range_low|fico_range_high|inq_last_6mths|mths_since_last_delinq|mths_since_last_record|open_acc|pub_rec|revol_bal|revol_util|total_acc|initial_list_status|out_prncp|out_prncp_inv|total_pymnt|total_pymnt_inv|total_rec_prncp|total_rec_int|total_rec_late_fee|recoveries|collection_recovery_fee|last_pymnt_d|last_pymnt_amnt|next_pymnt_d|last_credit_pull_d|last_fico_range_high|last_fico_range_low|collections_12_mths_ex_med|mths_since_last_major_derog|policy_code|application_type|annual_inc_joint|dti_joint|verification_status_joint|acc_now_delinq|tot_coll_amt|tot_cur_bal|open_acc_6m|open_act_il|open_il_12m|open_il_24m|mths_since_rcnt_il|total_bal_il|il_util|open_rv_12m|open_rv_24m|max_bal_bc|all_util|total_rev_hi_lim|inq_fi|total_cu_tl|inq_last_12m|acc_open_past_24mths|avg_cur_bal|bc_open_to_buy|bc_util|chargeoff_within_12_mths|delinq_amnt|mo_sin_old_il_acct|mo_sin_old_rev_tl_op|mo_sin_rcnt_rev_tl_op|mo_sin_rcnt_tl|mort_acc|mths_since_recent_bc|mths_since_recent_bc_dlq|mths_since_recent_inq|mths_since_recent_revol_delinq|num_accts_ever_120_pd|num_actv_bc_tl|num_actv_rev_tl|num_bc_sats|num_bc_tl|num_il_tl|num_op_rev_tl|num_rev_accts|num_rev_tl_bal_gt_0|num_sats|num_tl_120dpd_2m|num_tl_30dpd|num_tl_90g_dpd_24m|num_tl_op_past_12m|pct_tl_nvr_dlq|percent_bc_gt_75|pub_rec_bankruptcies|tax_liens|tot_hi_cred_lim|total_bal_ex_mort|total_bc_limit|total_il_high_credit_limit|revol_bal_joint|sec_app_fico_range_low|sec_app_fico_range_high|sec_app_earliest_cr_line|sec_app_inq_last_6mths|sec_app_mort_acc|sec_app_open_acc|sec_app_revol_util|sec_app_open_act_il|sec_app_num_rev_accts|sec_app_chargeoff_within_12_mths|sec_app_collections_12_mths_ex_med|sec_app_mths_since_last_major_derog|hardship_flag|hardship_type|hardship_reason|hardship_status|deferral_term|hardship_amount|hardship_start_date|hardship_end_date|payment_plan_start_date|hardship_length|hardship_dpd|hardship_loan_status|orig_projected_additional_accrued_interest|hardship_payoff_balance_amount|hardship_last_payment_amount|disbursement_method|debt_settlement_flag|debt_settlement_flag_date|settlement_status|settlement_date|settlement_amount|settlement_percentage|settlement_term|\n",
      "+---+---------+---------+-----------+---------------+----+--------+-----------+-----+---------+---------+----------+--------------+----------+-------------------+-------+-----------+----------+---+-------+-------+-----+--------+----------+----+-----------+----------------+--------------+---------------+--------------+----------------------+----------------------+--------+-------+---------+----------+---------+-------------------+---------+-------------+-----------+---------------+---------------+-------------+------------------+----------+-----------------------+------------+---------------+------------+------------------+--------------------+-------------------+--------------------------+---------------------------+-----------+----------------+----------------+---------+-------------------------+--------------+------------+-----------+-----------+-----------+-----------+-----------+------------------+------------+-------+-----------+-----------+----------+--------+----------------+------+-----------+------------+--------------------+-----------+--------------+-------+------------------------+-----------+------------------+--------------------+---------------------+--------------+--------+--------------------+------------------------+---------------------+------------------------------+---------------------+--------------+---------------+-----------+---------+---------+-------------+-------------+-------------------+--------+----------------+------------+------------------+------------------+--------------+----------------+--------------------+---------+---------------+-----------------+--------------+--------------------------+---------------+----------------------+-----------------------+------------------------+----------------------+----------------+----------------+------------------+-------------------+---------------------+--------------------------------+----------------------------------+-----------------------------------+-------------+-------------+---------------+---------------+-------------+---------------+-------------------+-----------------+-----------------------+---------------+------------+--------------------+------------------------------------------+------------------------------+----------------------------+-------------------+--------------------+-------------------------+-----------------+---------------+-----------------+---------------------+---------------+\n",
      "|  0|  2260701|       33|         33|             33|  33|      33|         33|   33|       33|   167002|    146940|            33|        37|                 33|     33|         33|        33| 33|2134634|     33|23358|      34|        33|1744|         62|              62|            33|             33|            63|               1158535|               1901545|      62|     62|       33|      1835|       62|                 33|       33|           33|         33|             33|             33|           33|                33|        33|                     33|        2460|             33|     1345343|               105|                  33|                 33|                       178|                    1679926|         33|              33|         2139991|  2139995|                  2144971|            62|       70309|      70309|     866163|     866162|     866162|     866162|            909957|      866162|1068883|     866162|     866162|    866162|  866381|           70309|866162|     866163|      866163|               50063|      70379|         74968|  76104|                     178|         62|            139104|               70310|                70310|         70309|   50063|               73445|                 1741000|               295468|                       1520342|                70309|         70309|          70309|      58623|    70309|    70309|        70309|        70310|              70309|   58623|          153690|       70309|             70309|             70309|         70464|           75412|                1398|      138|          70309|            50063|         50063|                     70309|        2152681|               2152680|                2152680|                 2152680|               2152680|         2152680|         2152680|           2154517|            2152680|              2152680|                         2152680|                           2152680|                            2224759|           33|      2249784|        2249784|        2249784|      2249784|        2249784|            2249784|          2249784|                2249784|        2249784|     2249784|             2249784|                                   2252050|                       2249784|                     2249784|                 33|                  33|                  2226455|          2226455|        2226455|          2226455|              2226455|        2226455|\n",
      "+---+---------+---------+-----------+---------------+----+--------+-----------+-----+---------+---------+----------+--------------+----------+-------------------+-------+-----------+----------+---+-------+-------+-----+--------+----------+----+-----------+----------------+--------------+---------------+--------------+----------------------+----------------------+--------+-------+---------+----------+---------+-------------------+---------+-------------+-----------+---------------+---------------+-------------+------------------+----------+-----------------------+------------+---------------+------------+------------------+--------------------+-------------------+--------------------------+---------------------------+-----------+----------------+----------------+---------+-------------------------+--------------+------------+-----------+-----------+-----------+-----------+-----------+------------------+------------+-------+-----------+-----------+----------+--------+----------------+------+-----------+------------+--------------------+-----------+--------------+-------+------------------------+-----------+------------------+--------------------+---------------------+--------------+--------+--------------------+------------------------+---------------------+------------------------------+---------------------+--------------+---------------+-----------+---------+---------+-------------+-------------+-------------------+--------+----------------+------------+------------------+------------------+--------------+----------------+--------------------+---------+---------------+-----------------+--------------+--------------------------+---------------+----------------------+-----------------------+------------------------+----------------------+----------------+----------------+------------------+-------------------+---------------------+--------------------------------+----------------------------------+-----------------------------------+-------------+-------------+---------------+---------------+-------------+---------------+-------------------+-----------------+-----------------------+---------------+------------+--------------------+------------------------------------------+------------------------------+----------------------------+-------------------+--------------------+-------------------------+-----------------+---------------+-----------------+---------------------+---------------+\n",
      "\n"
     ]
    }
   ],
   "source": [
    "data.select([count(when(isnan(c)|col(c).isNull(),c)).alias(c) for c in data.columns]).show()"
   ]
  },
  {
   "cell_type": "code",
   "execution_count": 5,
   "id": "50d06588-1749-46d1-acf0-4467db776fab",
   "metadata": {},
   "outputs": [
    {
     "data": {
      "text/plain": [
       "38.313868132052846"
      ]
     },
     "execution_count": 5,
     "metadata": {},
     "output_type": "execute_result"
    }
   ],
   "source": [
    "(866162/2260701)*100"
   ]
  },
  {
   "cell_type": "code",
   "execution_count": 6,
   "id": "68337438-1491-4065-b175-5feff5be6bb4",
   "metadata": {},
   "outputs": [
    {
     "data": {
      "text/plain": [
       "98.48516013395844"
      ]
     },
     "execution_count": 6,
     "metadata": {},
     "output_type": "execute_result"
    }
   ],
   "source": [
    "(2226455/2260701)*100"
   ]
  },
  {
   "cell_type": "code",
   "execution_count": null,
   "id": "ca3ea309-7b5a-4b21-b5a0-e8666deacd08",
   "metadata": {},
   "outputs": [],
   "source": []
  }
 ],
 "metadata": {
  "kernelspec": {
   "display_name": "Python 3 (ipykernel)",
   "language": "python",
   "name": "python3"
  },
  "language_info": {
   "codemirror_mode": {
    "name": "ipython",
    "version": 3
   },
   "file_extension": ".py",
   "mimetype": "text/x-python",
   "name": "python",
   "nbconvert_exporter": "python",
   "pygments_lexer": "ipython3",
   "version": "3.12.3"
  }
 },
 "nbformat": 4,
 "nbformat_minor": 5
}
